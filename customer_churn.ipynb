{
 "cells": [
  {
   "cell_type": "code",
   "execution_count": 2,
   "id": "7f28d59d-8415-4189-b49d-8541d205bf92",
   "metadata": {},
   "outputs": [
    {
     "name": "stderr",
     "output_type": "stream",
     "text": [
      "C:\\Users\\Yash\\AppData\\Roaming\\Python\\Python312\\site-packages\\tqdm\\auto.py:21: TqdmWarning: IProgress not found. Please update jupyter and ipywidgets. See https://ipywidgets.readthedocs.io/en/stable/user_install.html\n",
      "  from .autonotebook import tqdm as notebook_tqdm\n"
     ]
    },
    {
     "name": "stdout",
     "output_type": "stream",
     "text": [
      "Path to dataset files: C:\\Users\\Yash\\.cache\\kagglehub\\datasets\\muhammadshahidazeem\\customer-churn-dataset\\versions\\1\n"
     ]
    }
   ],
   "source": [
    "import kagglehub\n",
    "\n",
    "# Download latest version\n",
    "path = kagglehub.dataset_download(\"muhammadshahidazeem/customer-churn-dataset\")\n",
    "\n",
    "print(\"Path to dataset files:\", path)"
   ]
  },
  {
   "cell_type": "code",
   "execution_count": 2,
   "id": "3f2e3b04-c514-44ef-aaa9-b169f3723580",
   "metadata": {},
   "outputs": [],
   "source": [
    "import os\n",
    "\n"
   ]
  },
  {
   "cell_type": "code",
   "execution_count": 4,
   "id": "8ac833b4-085a-41a7-a5a9-3caf4a4625d4",
   "metadata": {},
   "outputs": [],
   "source": [
    "path1 = r\"C:\\Users\\Yash\\.cache\\kagglehub\\datasets\\muhammadshahidazeem\\customer-churn-dataset\\versions\\1\\customer_churn_dataset-training-master.csv\"\n",
    "test_path = r\"C:\\Users\\Yash\\.cache\\kagglehub\\datasets\\muhammadshahidazeem\\customer-churn-dataset\\versions\\1\\customer_churn_dataset-testing-master.csv\""
   ]
  },
  {
   "cell_type": "code",
   "execution_count": 6,
   "id": "5cf09e6f-f41b-4933-ad61-c0bc5675f513",
   "metadata": {},
   "outputs": [
    {
     "data": {
      "text/html": [
       "<div>\n",
       "<style scoped>\n",
       "    .dataframe tbody tr th:only-of-type {\n",
       "        vertical-align: middle;\n",
       "    }\n",
       "\n",
       "    .dataframe tbody tr th {\n",
       "        vertical-align: top;\n",
       "    }\n",
       "\n",
       "    .dataframe thead th {\n",
       "        text-align: right;\n",
       "    }\n",
       "</style>\n",
       "<table border=\"1\" class=\"dataframe\">\n",
       "  <thead>\n",
       "    <tr style=\"text-align: right;\">\n",
       "      <th></th>\n",
       "      <th>CustomerID</th>\n",
       "      <th>Age</th>\n",
       "      <th>Gender</th>\n",
       "      <th>Tenure</th>\n",
       "      <th>Usage Frequency</th>\n",
       "      <th>Support Calls</th>\n",
       "      <th>Payment Delay</th>\n",
       "      <th>Subscription Type</th>\n",
       "      <th>Contract Length</th>\n",
       "      <th>Total Spend</th>\n",
       "      <th>Last Interaction</th>\n",
       "      <th>Churn</th>\n",
       "    </tr>\n",
       "  </thead>\n",
       "  <tbody>\n",
       "    <tr>\n",
       "      <th>0</th>\n",
       "      <td>2.0</td>\n",
       "      <td>30.0</td>\n",
       "      <td>Female</td>\n",
       "      <td>39.0</td>\n",
       "      <td>14.0</td>\n",
       "      <td>5.0</td>\n",
       "      <td>18.0</td>\n",
       "      <td>Standard</td>\n",
       "      <td>Annual</td>\n",
       "      <td>932.0</td>\n",
       "      <td>17.0</td>\n",
       "      <td>1.0</td>\n",
       "    </tr>\n",
       "    <tr>\n",
       "      <th>1</th>\n",
       "      <td>3.0</td>\n",
       "      <td>65.0</td>\n",
       "      <td>Female</td>\n",
       "      <td>49.0</td>\n",
       "      <td>1.0</td>\n",
       "      <td>10.0</td>\n",
       "      <td>8.0</td>\n",
       "      <td>Basic</td>\n",
       "      <td>Monthly</td>\n",
       "      <td>557.0</td>\n",
       "      <td>6.0</td>\n",
       "      <td>1.0</td>\n",
       "    </tr>\n",
       "    <tr>\n",
       "      <th>2</th>\n",
       "      <td>4.0</td>\n",
       "      <td>55.0</td>\n",
       "      <td>Female</td>\n",
       "      <td>14.0</td>\n",
       "      <td>4.0</td>\n",
       "      <td>6.0</td>\n",
       "      <td>18.0</td>\n",
       "      <td>Basic</td>\n",
       "      <td>Quarterly</td>\n",
       "      <td>185.0</td>\n",
       "      <td>3.0</td>\n",
       "      <td>1.0</td>\n",
       "    </tr>\n",
       "    <tr>\n",
       "      <th>3</th>\n",
       "      <td>5.0</td>\n",
       "      <td>58.0</td>\n",
       "      <td>Male</td>\n",
       "      <td>38.0</td>\n",
       "      <td>21.0</td>\n",
       "      <td>7.0</td>\n",
       "      <td>7.0</td>\n",
       "      <td>Standard</td>\n",
       "      <td>Monthly</td>\n",
       "      <td>396.0</td>\n",
       "      <td>29.0</td>\n",
       "      <td>1.0</td>\n",
       "    </tr>\n",
       "    <tr>\n",
       "      <th>4</th>\n",
       "      <td>6.0</td>\n",
       "      <td>23.0</td>\n",
       "      <td>Male</td>\n",
       "      <td>32.0</td>\n",
       "      <td>20.0</td>\n",
       "      <td>5.0</td>\n",
       "      <td>8.0</td>\n",
       "      <td>Basic</td>\n",
       "      <td>Monthly</td>\n",
       "      <td>617.0</td>\n",
       "      <td>20.0</td>\n",
       "      <td>1.0</td>\n",
       "    </tr>\n",
       "  </tbody>\n",
       "</table>\n",
       "</div>"
      ],
      "text/plain": [
       "   CustomerID   Age  Gender  Tenure  Usage Frequency  Support Calls  \\\n",
       "0         2.0  30.0  Female    39.0             14.0            5.0   \n",
       "1         3.0  65.0  Female    49.0              1.0           10.0   \n",
       "2         4.0  55.0  Female    14.0              4.0            6.0   \n",
       "3         5.0  58.0    Male    38.0             21.0            7.0   \n",
       "4         6.0  23.0    Male    32.0             20.0            5.0   \n",
       "\n",
       "   Payment Delay Subscription Type Contract Length  Total Spend  \\\n",
       "0           18.0          Standard          Annual        932.0   \n",
       "1            8.0             Basic         Monthly        557.0   \n",
       "2           18.0             Basic       Quarterly        185.0   \n",
       "3            7.0          Standard         Monthly        396.0   \n",
       "4            8.0             Basic         Monthly        617.0   \n",
       "\n",
       "   Last Interaction  Churn  \n",
       "0              17.0    1.0  \n",
       "1               6.0    1.0  \n",
       "2               3.0    1.0  \n",
       "3              29.0    1.0  \n",
       "4              20.0    1.0  "
      ]
     },
     "execution_count": 6,
     "metadata": {},
     "output_type": "execute_result"
    }
   ],
   "source": [
    "import pandas as pd \n",
    "df_train = pd.read_csv(path1) \n",
    "df_train.head() "
   ]
  },
  {
   "cell_type": "code",
   "execution_count": 8,
   "id": "053c684f-062e-44d0-8de2-fadbd5d80fbc",
   "metadata": {},
   "outputs": [
    {
     "data": {
      "text/html": [
       "<div>\n",
       "<style scoped>\n",
       "    .dataframe tbody tr th:only-of-type {\n",
       "        vertical-align: middle;\n",
       "    }\n",
       "\n",
       "    .dataframe tbody tr th {\n",
       "        vertical-align: top;\n",
       "    }\n",
       "\n",
       "    .dataframe thead th {\n",
       "        text-align: right;\n",
       "    }\n",
       "</style>\n",
       "<table border=\"1\" class=\"dataframe\">\n",
       "  <thead>\n",
       "    <tr style=\"text-align: right;\">\n",
       "      <th></th>\n",
       "      <th>CustomerID</th>\n",
       "      <th>Age</th>\n",
       "      <th>Tenure</th>\n",
       "      <th>Usage Frequency</th>\n",
       "      <th>Support Calls</th>\n",
       "      <th>Payment Delay</th>\n",
       "      <th>Total Spend</th>\n",
       "      <th>Last Interaction</th>\n",
       "      <th>Churn</th>\n",
       "    </tr>\n",
       "  </thead>\n",
       "  <tbody>\n",
       "    <tr>\n",
       "      <th>count</th>\n",
       "      <td>440832.000000</td>\n",
       "      <td>440832.000000</td>\n",
       "      <td>440832.000000</td>\n",
       "      <td>440832.000000</td>\n",
       "      <td>440832.000000</td>\n",
       "      <td>440832.000000</td>\n",
       "      <td>440832.000000</td>\n",
       "      <td>440832.000000</td>\n",
       "      <td>440832.000000</td>\n",
       "    </tr>\n",
       "    <tr>\n",
       "      <th>mean</th>\n",
       "      <td>225398.667955</td>\n",
       "      <td>39.373153</td>\n",
       "      <td>31.256336</td>\n",
       "      <td>15.807494</td>\n",
       "      <td>3.604437</td>\n",
       "      <td>12.965722</td>\n",
       "      <td>631.616223</td>\n",
       "      <td>14.480868</td>\n",
       "      <td>0.567107</td>\n",
       "    </tr>\n",
       "    <tr>\n",
       "      <th>std</th>\n",
       "      <td>129531.918550</td>\n",
       "      <td>12.442369</td>\n",
       "      <td>17.255727</td>\n",
       "      <td>8.586242</td>\n",
       "      <td>3.070218</td>\n",
       "      <td>8.258063</td>\n",
       "      <td>240.803001</td>\n",
       "      <td>8.596208</td>\n",
       "      <td>0.495477</td>\n",
       "    </tr>\n",
       "    <tr>\n",
       "      <th>min</th>\n",
       "      <td>2.000000</td>\n",
       "      <td>18.000000</td>\n",
       "      <td>1.000000</td>\n",
       "      <td>1.000000</td>\n",
       "      <td>0.000000</td>\n",
       "      <td>0.000000</td>\n",
       "      <td>100.000000</td>\n",
       "      <td>1.000000</td>\n",
       "      <td>0.000000</td>\n",
       "    </tr>\n",
       "    <tr>\n",
       "      <th>25%</th>\n",
       "      <td>113621.750000</td>\n",
       "      <td>29.000000</td>\n",
       "      <td>16.000000</td>\n",
       "      <td>9.000000</td>\n",
       "      <td>1.000000</td>\n",
       "      <td>6.000000</td>\n",
       "      <td>480.000000</td>\n",
       "      <td>7.000000</td>\n",
       "      <td>0.000000</td>\n",
       "    </tr>\n",
       "    <tr>\n",
       "      <th>50%</th>\n",
       "      <td>226125.500000</td>\n",
       "      <td>39.000000</td>\n",
       "      <td>32.000000</td>\n",
       "      <td>16.000000</td>\n",
       "      <td>3.000000</td>\n",
       "      <td>12.000000</td>\n",
       "      <td>661.000000</td>\n",
       "      <td>14.000000</td>\n",
       "      <td>1.000000</td>\n",
       "    </tr>\n",
       "    <tr>\n",
       "      <th>75%</th>\n",
       "      <td>337739.250000</td>\n",
       "      <td>48.000000</td>\n",
       "      <td>46.000000</td>\n",
       "      <td>23.000000</td>\n",
       "      <td>6.000000</td>\n",
       "      <td>19.000000</td>\n",
       "      <td>830.000000</td>\n",
       "      <td>22.000000</td>\n",
       "      <td>1.000000</td>\n",
       "    </tr>\n",
       "    <tr>\n",
       "      <th>max</th>\n",
       "      <td>449999.000000</td>\n",
       "      <td>65.000000</td>\n",
       "      <td>60.000000</td>\n",
       "      <td>30.000000</td>\n",
       "      <td>10.000000</td>\n",
       "      <td>30.000000</td>\n",
       "      <td>1000.000000</td>\n",
       "      <td>30.000000</td>\n",
       "      <td>1.000000</td>\n",
       "    </tr>\n",
       "  </tbody>\n",
       "</table>\n",
       "</div>"
      ],
      "text/plain": [
       "          CustomerID            Age         Tenure  Usage Frequency  \\\n",
       "count  440832.000000  440832.000000  440832.000000    440832.000000   \n",
       "mean   225398.667955      39.373153      31.256336        15.807494   \n",
       "std    129531.918550      12.442369      17.255727         8.586242   \n",
       "min         2.000000      18.000000       1.000000         1.000000   \n",
       "25%    113621.750000      29.000000      16.000000         9.000000   \n",
       "50%    226125.500000      39.000000      32.000000        16.000000   \n",
       "75%    337739.250000      48.000000      46.000000        23.000000   \n",
       "max    449999.000000      65.000000      60.000000        30.000000   \n",
       "\n",
       "       Support Calls  Payment Delay    Total Spend  Last Interaction  \\\n",
       "count  440832.000000  440832.000000  440832.000000     440832.000000   \n",
       "mean        3.604437      12.965722     631.616223         14.480868   \n",
       "std         3.070218       8.258063     240.803001          8.596208   \n",
       "min         0.000000       0.000000     100.000000          1.000000   \n",
       "25%         1.000000       6.000000     480.000000          7.000000   \n",
       "50%         3.000000      12.000000     661.000000         14.000000   \n",
       "75%         6.000000      19.000000     830.000000         22.000000   \n",
       "max        10.000000      30.000000    1000.000000         30.000000   \n",
       "\n",
       "               Churn  \n",
       "count  440832.000000  \n",
       "mean        0.567107  \n",
       "std         0.495477  \n",
       "min         0.000000  \n",
       "25%         0.000000  \n",
       "50%         1.000000  \n",
       "75%         1.000000  \n",
       "max         1.000000  "
      ]
     },
     "execution_count": 8,
     "metadata": {},
     "output_type": "execute_result"
    }
   ],
   "source": [
    "df_train.describe() "
   ]
  },
  {
   "cell_type": "code",
   "execution_count": 10,
   "id": "3cf78c09-22b1-4ae6-ab20-afea6fa5af67",
   "metadata": {},
   "outputs": [],
   "source": [
    "target = df_train[\"Churn\"] \n",
    "df = df_train.drop([\"CustomerID\", \"Churn\"], axis = 1) "
   ]
  },
  {
   "cell_type": "code",
   "execution_count": 12,
   "id": "600e56c5-3607-49cc-a64e-a2674d06ad85",
   "metadata": {},
   "outputs": [
    {
     "data": {
      "text/plain": [
       "Age                  1\n",
       "Gender               1\n",
       "Tenure               1\n",
       "Usage Frequency      1\n",
       "Support Calls        1\n",
       "Payment Delay        1\n",
       "Subscription Type    1\n",
       "Contract Length      1\n",
       "Total Spend          1\n",
       "Last Interaction     1\n",
       "dtype: int64"
      ]
     },
     "execution_count": 12,
     "metadata": {},
     "output_type": "execute_result"
    }
   ],
   "source": [
    "df.isnull().sum() "
   ]
  },
  {
   "cell_type": "code",
   "execution_count": 14,
   "id": "0f9322ff-34a7-410f-99fd-c0e8615ad80c",
   "metadata": {},
   "outputs": [],
   "source": [
    "df.dropna(inplace = True) "
   ]
  },
  {
   "cell_type": "code",
   "execution_count": 16,
   "id": "392e840f-efea-453d-846d-6f15506117bd",
   "metadata": {},
   "outputs": [
    {
     "data": {
      "text/plain": [
       "Age                  0\n",
       "Gender               0\n",
       "Tenure               0\n",
       "Usage Frequency      0\n",
       "Support Calls        0\n",
       "Payment Delay        0\n",
       "Subscription Type    0\n",
       "Contract Length      0\n",
       "Total Spend          0\n",
       "Last Interaction     0\n",
       "dtype: int64"
      ]
     },
     "execution_count": 16,
     "metadata": {},
     "output_type": "execute_result"
    }
   ],
   "source": [
    "df.isnull().sum() "
   ]
  },
  {
   "cell_type": "code",
   "execution_count": 18,
   "id": "f7a57e23-5c0e-4a02-97b7-81ada9641dc8",
   "metadata": {},
   "outputs": [
    {
     "name": "stdout",
     "output_type": "stream",
     "text": [
      "Gender\n",
      "Subscription Type\n",
      "Contract Length\n"
     ]
    }
   ],
   "source": [
    "for i in df.columns: \n",
    "    if df[i].dtype == \"O\": \n",
    "        print(i)     # findout this are the string data "
   ]
  },
  {
   "cell_type": "code",
   "execution_count": 20,
   "id": "dc6b0ed5-a9d1-4f7a-9dbb-24d7cb5c870e",
   "metadata": {},
   "outputs": [],
   "source": [
    "from sklearn.preprocessing import LabelEncoder\n",
    "\n",
    "# Initialize a LabelEncoder\n",
    "le = LabelEncoder()\n",
    "\n",
    "# Apply label encoding to each categorical column\n",
    "for column in ['Gender', 'Subscription Type', 'Contract Length']:\n",
    "    df[column] = le.fit_transform(df[column])"
   ]
  },
  {
   "cell_type": "code",
   "execution_count": 24,
   "id": "65a4abf3-8fa4-45c8-aa35-2803ea2167f2",
   "metadata": {},
   "outputs": [],
   "source": [
    "target.dropna(inplace = True) "
   ]
  },
  {
   "cell_type": "code",
   "execution_count": 26,
   "id": "5ec312c3-327b-48ec-aa3e-93f8fe2f4862",
   "metadata": {},
   "outputs": [],
   "source": [
    "from sklearn.model_selection import train_test_split\n",
    "\n",
    "X_train, X_test, y_train, y_test = train_test_split(df, target, test_size=0.2, shuffle = False)\n"
   ]
  },
  {
   "cell_type": "code",
   "execution_count": 28,
   "id": "8455747c-5ed3-4c86-94e9-b381b08be8ce",
   "metadata": {},
   "outputs": [
    {
     "name": "stdout",
     "output_type": "stream",
     "text": [
      "0:\ttest: 0.0000000\tbest: 0.0000000 (0)\ttotal: 388ms\tremaining: 3m 13s\n",
      "Stopped by overfitting detector  (50 iterations wait)\n",
      "\n",
      "bestTest = 0\n",
      "bestIteration = 0\n",
      "\n",
      "CatBoost Accuracy: 1.0000\n",
      "CatBoost AUC: nan\n",
      "[LightGBM] [Warning] Found whitespace in feature_names, replace with underlines\n",
      "[LightGBM] [Warning] Found whitespace in feature_names, replace with underlines\n",
      "Training until validation scores don't improve for 50 rounds\n"
     ]
    },
    {
     "name": "stderr",
     "output_type": "stream",
     "text": [
      "C:\\Users\\Yash\\AppData\\Roaming\\Python\\Python312\\site-packages\\sklearn\\metrics\\_ranking.py:375: UndefinedMetricWarning: Only one class is present in y_true. ROC AUC score is not defined in that case.\n",
      "  warnings.warn(\n"
     ]
    },
    {
     "name": "stdout",
     "output_type": "stream",
     "text": [
      "Early stopping, best iteration is:\n",
      "[1]\ttraining's auc: 0.967835\tvalid_1's auc: 1\n",
      "LightGBM Accuracy: 0.0000\n",
      "LightGBM AUC: nan\n"
     ]
    },
    {
     "name": "stderr",
     "output_type": "stream",
     "text": [
      "C:\\Users\\Yash\\AppData\\Roaming\\Python\\Python312\\site-packages\\sklearn\\metrics\\_ranking.py:375: UndefinedMetricWarning: Only one class is present in y_true. ROC AUC score is not defined in that case.\n",
      "  warnings.warn(\n"
     ]
    }
   ],
   "source": [
    "import numpy as np\n",
    "from catboost import CatBoostClassifier\n",
    "import lightgbm as lgb\n",
    "from sklearn.metrics import accuracy_score, roc_auc_score\n",
    "\n",
    "\n",
    "cat_features = ['Gender', 'Subscription Type', 'Contract Length']  # adjust based on your dataframe\n",
    "\n",
    "# Initialize and train CatBoost\n",
    "catboost_model = CatBoostClassifier(\n",
    "    iterations=500,\n",
    "    learning_rate=0.1,\n",
    "    depth=6,\n",
    "    loss_function='Logloss',\n",
    "    eval_metric='AUC',\n",
    "    random_seed=42,\n",
    "    verbose=100  # prints training progress every 100 iterations\n",
    ")\n",
    "\n",
    "catboost_model.fit(\n",
    "    X_train, y_train,\n",
    "    cat_features=cat_features,\n",
    "    eval_set=(X_test, y_test),\n",
    "    early_stopping_rounds=50\n",
    ")\n",
    "\n",
    "# Make predictions\n",
    "catboost_preds = catboost_model.predict(X_test)\n",
    "catboost_pred_proba = catboost_model.predict_proba(X_test)[:, 1]\n",
    "\n",
    "print(f\"CatBoost Accuracy: {accuracy_score(y_test, catboost_preds):.4f}\")\n",
    "print(f\"CatBoost AUC: {roc_auc_score(y_test, catboost_pred_proba):.4f}\")\n",
    "\n",
    "# ----------------\n",
    "# LIGHTGBM MODEL\n",
    "# ----------------\n",
    "\n",
    "# Convert data to LightGBM dataset format\n",
    "# For LightGBM, categorical features should be label-encoded first\n",
    "# and then specified as categorical\n",
    "lgb_train = lgb.Dataset(\n",
    "    X_train, \n",
    "    y_train, \n",
    "    categorical_feature=cat_features\n",
    ")\n",
    "lgb_eval = lgb.Dataset(\n",
    "    X_test, \n",
    "    y_test, \n",
    "    reference=lgb_train, \n",
    "    categorical_feature=cat_features\n",
    ")\n",
    "\n",
    "# Set parameters\n",
    "params = {\n",
    "    'objective': 'binary',\n",
    "    'metric': 'auc',\n",
    "    'boosting_type': 'gbdt',\n",
    "    'num_leaves': 31,\n",
    "    'learning_rate': 0.05,\n",
    "    'feature_fraction': 0.9,\n",
    "    'bagging_fraction': 0.8,\n",
    "    'bagging_freq': 5,\n",
    "    'verbose': 0\n",
    "}\n",
    "\n",
    "# Train model\n",
    "lgb_model = lgb.train(\n",
    "    params,\n",
    "    lgb_train,\n",
    "    num_boost_round=500,\n",
    "    valid_sets=[lgb_train, lgb_eval],\n",
    "    callbacks=[lgb.early_stopping(50, verbose=True)]\n",
    ")\n",
    "\n",
    "# Make predictions\n",
    "lgb_preds = np.round(lgb_model.predict(X_test, num_iteration=lgb_model.best_iteration))\n",
    "lgb_pred_proba = lgb_model.predict(X_test, num_iteration=lgb_model.best_iteration)\n",
    "\n",
    "print(f\"LightGBM Accuracy: {accuracy_score(y_test, lgb_preds):.4f}\")\n",
    "print(f\"LightGBM AUC: {roc_auc_score(y_test, lgb_pred_proba):.4f}\")"
   ]
  },
  {
   "cell_type": "code",
   "execution_count": 30,
   "id": "435908b7-5b2b-41f0-8dc6-31db24ccad1f",
   "metadata": {},
   "outputs": [
    {
     "data": {
      "text/plain": [
       "64374"
      ]
     },
     "execution_count": 30,
     "metadata": {},
     "output_type": "execute_result"
    }
   ],
   "source": [
    "df_test = pd.read_csv(test_path) \n",
    "len(df_test)"
   ]
  },
  {
   "cell_type": "code",
   "execution_count": 32,
   "id": "5e212927-f331-4155-b69f-2fa9eb3153bf",
   "metadata": {},
   "outputs": [],
   "source": [
    "actual_val = df_test[\"Churn\"]\n",
    "df_test = df_test.drop([\"CustomerID\", \"Churn\"],axis =1 )\n"
   ]
  },
  {
   "cell_type": "code",
   "execution_count": 34,
   "id": "ff923e32-e231-44bd-b0d6-9943f1d862a3",
   "metadata": {},
   "outputs": [],
   "source": [
    "for column in ['Gender', 'Subscription Type', 'Contract Length']:\n",
    "    df_test[column] = le.fit_transform(df_test[column])"
   ]
  },
  {
   "cell_type": "code",
   "execution_count": 36,
   "id": "123465f4-ba37-4786-8018-75bf1168f72b",
   "metadata": {},
   "outputs": [
    {
     "data": {
      "text/plain": [
       "((440832, 10), (64374, 10))"
      ]
     },
     "execution_count": 36,
     "metadata": {},
     "output_type": "execute_result"
    }
   ],
   "source": [
    "df.shape, df_test.shape "
   ]
  },
  {
   "cell_type": "code",
   "execution_count": 42,
   "id": "ccfd57ab-57f5-4500-b21f-6f6e391a1f8d",
   "metadata": {},
   "outputs": [
    {
     "name": "stdout",
     "output_type": "stream",
     "text": [
      "CatBoost Accuracy: 0.5033\n"
     ]
    }
   ],
   "source": [
    "pred = catboost_model.predict(df_test) \n",
    "print(f\"CatBoost Accuracy: {accuracy_score(actual_val, pred):.4f}\")"
   ]
  },
  {
   "cell_type": "code",
   "execution_count": 40,
   "id": "26d2edc2-de13-4923-a803-e3d7dfa47ce0",
   "metadata": {},
   "outputs": [
    {
     "name": "stdout",
     "output_type": "stream",
     "text": [
      "Confusion Matrix:\n",
      "[[ 1946    40]\n",
      " [31935 30453]]\n"
     ]
    }
   ],
   "source": [
    "from sklearn.metrics import confusion_matrix\n",
    "\n",
    "\n",
    "\n",
    "# Compute confusion matrix\n",
    "cm = confusion_matrix(pred, actual_val) \n",
    "\n",
    "print(\"Confusion Matrix:\")\n",
    "print(cm)\n"
   ]
  },
  {
   "cell_type": "code",
   "execution_count": 44,
   "id": "d7581caa-bc63-4f84-95cb-3f31f3131317",
   "metadata": {},
   "outputs": [
    {
     "data": {
      "text/plain": [
       "0.5034019945940907"
      ]
     },
     "execution_count": 44,
     "metadata": {},
     "output_type": "execute_result"
    }
   ],
   "source": [
    "total = 64374\n",
    "a = 1953 + 30453 \n",
    "a/total "
   ]
  },
  {
   "cell_type": "code",
   "execution_count": 55,
   "id": "8e208b45-9897-4ac0-a1f9-88d621a01fc5",
   "metadata": {},
   "outputs": [
    {
     "data": {
      "application/vnd.plotly.v1+json": {
       "config": {
        "plotlyServerURL": "https://plot.ly"
       },
       "data": [
        {
         "colorscale": [
          [
           0,
           "rgb(247,251,255)"
          ],
          [
           0.125,
           "rgb(222,235,247)"
          ],
          [
           0.25,
           "rgb(198,219,239)"
          ],
          [
           0.375,
           "rgb(158,202,225)"
          ],
          [
           0.5,
           "rgb(107,174,214)"
          ],
          [
           0.625,
           "rgb(66,146,198)"
          ],
          [
           0.75,
           "rgb(33,113,181)"
          ],
          [
           0.875,
           "rgb(8,81,156)"
          ],
          [
           1,
           "rgb(8,48,107)"
          ]
         ],
         "showscale": true,
         "text": {
          "_inputArray": [
           {
            "0": 1953,
            "1": 40
           },
           {
            "0": 31928,
            "1": 30453
           }
          ],
          "bdata": "oQcoALh89XY=",
          "dtype": "i2",
          "shape": "2, 2"
         },
         "texttemplate": "%{text}",
         "type": "heatmap",
         "x": [
          "Pred 0",
          "Pred 1"
         ],
         "y": [
          "Actual 0",
          "Actual 1"
         ],
         "z": {
          "_inputArray": [
           {
            "0": 1953,
            "1": 40
           },
           {
            "0": 31928,
            "1": 30453
           }
          ],
          "bdata": "oQcoALh89XY=",
          "dtype": "i2",
          "shape": "2, 2"
         }
        }
       ],
       "layout": {
        "autosize": true,
        "template": {
         "data": {
          "bar": [
           {
            "error_x": {
             "color": "#2a3f5f"
            },
            "error_y": {
             "color": "#2a3f5f"
            },
            "marker": {
             "line": {
              "color": "#E5ECF6",
              "width": 0.5
             },
             "pattern": {
              "fillmode": "overlay",
              "size": 10,
              "solidity": 0.2
             }
            },
            "type": "bar"
           }
          ],
          "barpolar": [
           {
            "marker": {
             "line": {
              "color": "#E5ECF6",
              "width": 0.5
             },
             "pattern": {
              "fillmode": "overlay",
              "size": 10,
              "solidity": 0.2
             }
            },
            "type": "barpolar"
           }
          ],
          "carpet": [
           {
            "aaxis": {
             "endlinecolor": "#2a3f5f",
             "gridcolor": "white",
             "linecolor": "white",
             "minorgridcolor": "white",
             "startlinecolor": "#2a3f5f"
            },
            "baxis": {
             "endlinecolor": "#2a3f5f",
             "gridcolor": "white",
             "linecolor": "white",
             "minorgridcolor": "white",
             "startlinecolor": "#2a3f5f"
            },
            "type": "carpet"
           }
          ],
          "choropleth": [
           {
            "colorbar": {
             "outlinewidth": 0,
             "ticks": ""
            },
            "type": "choropleth"
           }
          ],
          "contour": [
           {
            "colorbar": {
             "outlinewidth": 0,
             "ticks": ""
            },
            "colorscale": [
             [
              0,
              "#0d0887"
             ],
             [
              0.1111111111111111,
              "#46039f"
             ],
             [
              0.2222222222222222,
              "#7201a8"
             ],
             [
              0.3333333333333333,
              "#9c179e"
             ],
             [
              0.4444444444444444,
              "#bd3786"
             ],
             [
              0.5555555555555556,
              "#d8576b"
             ],
             [
              0.6666666666666666,
              "#ed7953"
             ],
             [
              0.7777777777777778,
              "#fb9f3a"
             ],
             [
              0.8888888888888888,
              "#fdca26"
             ],
             [
              1,
              "#f0f921"
             ]
            ],
            "type": "contour"
           }
          ],
          "contourcarpet": [
           {
            "colorbar": {
             "outlinewidth": 0,
             "ticks": ""
            },
            "type": "contourcarpet"
           }
          ],
          "heatmap": [
           {
            "colorbar": {
             "outlinewidth": 0,
             "ticks": ""
            },
            "colorscale": [
             [
              0,
              "#0d0887"
             ],
             [
              0.1111111111111111,
              "#46039f"
             ],
             [
              0.2222222222222222,
              "#7201a8"
             ],
             [
              0.3333333333333333,
              "#9c179e"
             ],
             [
              0.4444444444444444,
              "#bd3786"
             ],
             [
              0.5555555555555556,
              "#d8576b"
             ],
             [
              0.6666666666666666,
              "#ed7953"
             ],
             [
              0.7777777777777778,
              "#fb9f3a"
             ],
             [
              0.8888888888888888,
              "#fdca26"
             ],
             [
              1,
              "#f0f921"
             ]
            ],
            "type": "heatmap"
           }
          ],
          "histogram": [
           {
            "marker": {
             "pattern": {
              "fillmode": "overlay",
              "size": 10,
              "solidity": 0.2
             }
            },
            "type": "histogram"
           }
          ],
          "histogram2d": [
           {
            "colorbar": {
             "outlinewidth": 0,
             "ticks": ""
            },
            "colorscale": [
             [
              0,
              "#0d0887"
             ],
             [
              0.1111111111111111,
              "#46039f"
             ],
             [
              0.2222222222222222,
              "#7201a8"
             ],
             [
              0.3333333333333333,
              "#9c179e"
             ],
             [
              0.4444444444444444,
              "#bd3786"
             ],
             [
              0.5555555555555556,
              "#d8576b"
             ],
             [
              0.6666666666666666,
              "#ed7953"
             ],
             [
              0.7777777777777778,
              "#fb9f3a"
             ],
             [
              0.8888888888888888,
              "#fdca26"
             ],
             [
              1,
              "#f0f921"
             ]
            ],
            "type": "histogram2d"
           }
          ],
          "histogram2dcontour": [
           {
            "colorbar": {
             "outlinewidth": 0,
             "ticks": ""
            },
            "colorscale": [
             [
              0,
              "#0d0887"
             ],
             [
              0.1111111111111111,
              "#46039f"
             ],
             [
              0.2222222222222222,
              "#7201a8"
             ],
             [
              0.3333333333333333,
              "#9c179e"
             ],
             [
              0.4444444444444444,
              "#bd3786"
             ],
             [
              0.5555555555555556,
              "#d8576b"
             ],
             [
              0.6666666666666666,
              "#ed7953"
             ],
             [
              0.7777777777777778,
              "#fb9f3a"
             ],
             [
              0.8888888888888888,
              "#fdca26"
             ],
             [
              1,
              "#f0f921"
             ]
            ],
            "type": "histogram2dcontour"
           }
          ],
          "mesh3d": [
           {
            "colorbar": {
             "outlinewidth": 0,
             "ticks": ""
            },
            "type": "mesh3d"
           }
          ],
          "parcoords": [
           {
            "line": {
             "colorbar": {
              "outlinewidth": 0,
              "ticks": ""
             }
            },
            "type": "parcoords"
           }
          ],
          "pie": [
           {
            "automargin": true,
            "type": "pie"
           }
          ],
          "scatter": [
           {
            "fillpattern": {
             "fillmode": "overlay",
             "size": 10,
             "solidity": 0.2
            },
            "type": "scatter"
           }
          ],
          "scatter3d": [
           {
            "line": {
             "colorbar": {
              "outlinewidth": 0,
              "ticks": ""
             }
            },
            "marker": {
             "colorbar": {
              "outlinewidth": 0,
              "ticks": ""
             }
            },
            "type": "scatter3d"
           }
          ],
          "scattercarpet": [
           {
            "marker": {
             "colorbar": {
              "outlinewidth": 0,
              "ticks": ""
             }
            },
            "type": "scattercarpet"
           }
          ],
          "scattergeo": [
           {
            "marker": {
             "colorbar": {
              "outlinewidth": 0,
              "ticks": ""
             }
            },
            "type": "scattergeo"
           }
          ],
          "scattergl": [
           {
            "marker": {
             "colorbar": {
              "outlinewidth": 0,
              "ticks": ""
             }
            },
            "type": "scattergl"
           }
          ],
          "scattermap": [
           {
            "marker": {
             "colorbar": {
              "outlinewidth": 0,
              "ticks": ""
             }
            },
            "type": "scattermap"
           }
          ],
          "scattermapbox": [
           {
            "marker": {
             "colorbar": {
              "outlinewidth": 0,
              "ticks": ""
             }
            },
            "type": "scattermapbox"
           }
          ],
          "scatterpolar": [
           {
            "marker": {
             "colorbar": {
              "outlinewidth": 0,
              "ticks": ""
             }
            },
            "type": "scatterpolar"
           }
          ],
          "scatterpolargl": [
           {
            "marker": {
             "colorbar": {
              "outlinewidth": 0,
              "ticks": ""
             }
            },
            "type": "scatterpolargl"
           }
          ],
          "scatterternary": [
           {
            "marker": {
             "colorbar": {
              "outlinewidth": 0,
              "ticks": ""
             }
            },
            "type": "scatterternary"
           }
          ],
          "surface": [
           {
            "colorbar": {
             "outlinewidth": 0,
             "ticks": ""
            },
            "colorscale": [
             [
              0,
              "#0d0887"
             ],
             [
              0.1111111111111111,
              "#46039f"
             ],
             [
              0.2222222222222222,
              "#7201a8"
             ],
             [
              0.3333333333333333,
              "#9c179e"
             ],
             [
              0.4444444444444444,
              "#bd3786"
             ],
             [
              0.5555555555555556,
              "#d8576b"
             ],
             [
              0.6666666666666666,
              "#ed7953"
             ],
             [
              0.7777777777777778,
              "#fb9f3a"
             ],
             [
              0.8888888888888888,
              "#fdca26"
             ],
             [
              1,
              "#f0f921"
             ]
            ],
            "type": "surface"
           }
          ],
          "table": [
           {
            "cells": {
             "fill": {
              "color": "#EBF0F8"
             },
             "line": {
              "color": "white"
             }
            },
            "header": {
             "fill": {
              "color": "#C8D4E3"
             },
             "line": {
              "color": "white"
             }
            },
            "type": "table"
           }
          ]
         },
         "layout": {
          "annotationdefaults": {
           "arrowcolor": "#2a3f5f",
           "arrowhead": 0,
           "arrowwidth": 1
          },
          "autotypenumbers": "strict",
          "coloraxis": {
           "colorbar": {
            "outlinewidth": 0,
            "ticks": ""
           }
          },
          "colorscale": {
           "diverging": [
            [
             0,
             "#8e0152"
            ],
            [
             0.1,
             "#c51b7d"
            ],
            [
             0.2,
             "#de77ae"
            ],
            [
             0.3,
             "#f1b6da"
            ],
            [
             0.4,
             "#fde0ef"
            ],
            [
             0.5,
             "#f7f7f7"
            ],
            [
             0.6,
             "#e6f5d0"
            ],
            [
             0.7,
             "#b8e186"
            ],
            [
             0.8,
             "#7fbc41"
            ],
            [
             0.9,
             "#4d9221"
            ],
            [
             1,
             "#276419"
            ]
           ],
           "sequential": [
            [
             0,
             "#0d0887"
            ],
            [
             0.1111111111111111,
             "#46039f"
            ],
            [
             0.2222222222222222,
             "#7201a8"
            ],
            [
             0.3333333333333333,
             "#9c179e"
            ],
            [
             0.4444444444444444,
             "#bd3786"
            ],
            [
             0.5555555555555556,
             "#d8576b"
            ],
            [
             0.6666666666666666,
             "#ed7953"
            ],
            [
             0.7777777777777778,
             "#fb9f3a"
            ],
            [
             0.8888888888888888,
             "#fdca26"
            ],
            [
             1,
             "#f0f921"
            ]
           ],
           "sequentialminus": [
            [
             0,
             "#0d0887"
            ],
            [
             0.1111111111111111,
             "#46039f"
            ],
            [
             0.2222222222222222,
             "#7201a8"
            ],
            [
             0.3333333333333333,
             "#9c179e"
            ],
            [
             0.4444444444444444,
             "#bd3786"
            ],
            [
             0.5555555555555556,
             "#d8576b"
            ],
            [
             0.6666666666666666,
             "#ed7953"
            ],
            [
             0.7777777777777778,
             "#fb9f3a"
            ],
            [
             0.8888888888888888,
             "#fdca26"
            ],
            [
             1,
             "#f0f921"
            ]
           ]
          },
          "colorway": [
           "#636efa",
           "#EF553B",
           "#00cc96",
           "#ab63fa",
           "#FFA15A",
           "#19d3f3",
           "#FF6692",
           "#B6E880",
           "#FF97FF",
           "#FECB52"
          ],
          "font": {
           "color": "#2a3f5f"
          },
          "geo": {
           "bgcolor": "white",
           "lakecolor": "white",
           "landcolor": "#E5ECF6",
           "showlakes": true,
           "showland": true,
           "subunitcolor": "white"
          },
          "hoverlabel": {
           "align": "left"
          },
          "hovermode": "closest",
          "mapbox": {
           "style": "light"
          },
          "paper_bgcolor": "white",
          "plot_bgcolor": "#E5ECF6",
          "polar": {
           "angularaxis": {
            "gridcolor": "white",
            "linecolor": "white",
            "ticks": ""
           },
           "bgcolor": "#E5ECF6",
           "radialaxis": {
            "gridcolor": "white",
            "linecolor": "white",
            "ticks": ""
           }
          },
          "scene": {
           "xaxis": {
            "backgroundcolor": "#E5ECF6",
            "gridcolor": "white",
            "gridwidth": 2,
            "linecolor": "white",
            "showbackground": true,
            "ticks": "",
            "zerolinecolor": "white"
           },
           "yaxis": {
            "backgroundcolor": "#E5ECF6",
            "gridcolor": "white",
            "gridwidth": 2,
            "linecolor": "white",
            "showbackground": true,
            "ticks": "",
            "zerolinecolor": "white"
           },
           "zaxis": {
            "backgroundcolor": "#E5ECF6",
            "gridcolor": "white",
            "gridwidth": 2,
            "linecolor": "white",
            "showbackground": true,
            "ticks": "",
            "zerolinecolor": "white"
           }
          },
          "shapedefaults": {
           "line": {
            "color": "#2a3f5f"
           }
          },
          "ternary": {
           "aaxis": {
            "gridcolor": "white",
            "linecolor": "white",
            "ticks": ""
           },
           "baxis": {
            "gridcolor": "white",
            "linecolor": "white",
            "ticks": ""
           },
           "bgcolor": "#E5ECF6",
           "caxis": {
            "gridcolor": "white",
            "linecolor": "white",
            "ticks": ""
           }
          },
          "title": {
           "x": 0.05
          },
          "xaxis": {
           "automargin": true,
           "gridcolor": "white",
           "linecolor": "white",
           "ticks": "",
           "title": {
            "standoff": 15
           },
           "zerolinecolor": "white",
           "zerolinewidth": 2
          },
          "yaxis": {
           "automargin": true,
           "gridcolor": "white",
           "linecolor": "white",
           "ticks": "",
           "title": {
            "standoff": 15
           },
           "zerolinecolor": "white",
           "zerolinewidth": 2
          }
         }
        },
        "xaxis": {
         "autorange": true,
         "range": [
          -0.5,
          1.5
         ],
         "type": "category"
        },
        "yaxis": {
         "autorange": true,
         "range": [
          -0.5,
          1.5
         ],
         "type": "category"
        }
       }
      },
      "image/png": "[encoded data removed]"
     },
     "metadata": {},
     "output_type": "display_data"
    }
   ],
   "source": [
    "import matplotlib.pyplot as plt\n",
    "import plotly.graph_objects as go\n",
    "x_labels = [\"Pred 0\", \"Pred 1\"]\n",
    "y_labels = [\"Actual 0\", \"Actual 1\"]\n",
    "\n",
    "# Create Plotly heatmap\n",
    "fig = go.Figure(data=go.Heatmap(\n",
    "    z=cm,\n",
    "    x=x_labels,\n",
    "    y=y_labels,\n",
    "    colorscale='Blues',\n",
    "    showscale=True,\n",
    "    text=cm,\n",
    "    texttemplate=\"%{text}\"\n",
    "))\n",
    "fig.show() \n"
   ]
  },
  {
   "cell_type": "code",
   "execution_count": 59,
   "id": "4bc59733-79a5-4d54-b5a0-6cabcba7b475",
   "metadata": {},
   "outputs": [
    {
     "data": {
      "text/plain": [
       "(440833, 12)"
      ]
     },
     "execution_count": 59,
     "metadata": {},
     "output_type": "execute_result"
    }
   ],
   "source": [
    "df_train.shape"
   ]
  },
  {
   "cell_type": "code",
   "execution_count": 48,
   "id": "a639e9b7-a93b-4a4f-994d-4e6e233d888b",
   "metadata": {},
   "outputs": [],
   "source": [
    "from scipy.stats import ks_2samp\n",
    "\n",
    "def ks_test(train_df, test_df):\n",
    "    print(\"KS Test results (p < 0.05 indicates distribution difference):\")\n",
    "    for col in train_df.columns:\n",
    "        if train_df[col].dtype != 'object':  # Only for numerical\n",
    "            stat, p = ks_2samp(train_df[col].dropna(), test_df[col].dropna())\n",
    "            print(f\"{col}: KS Statistic={stat:.4f}, p-value={p:.4f}\")\n"
   ]
  },
  {
   "cell_type": "code",
   "execution_count": 50,
   "id": "e010c481-0def-4242-bf74-0f48f06371b6",
   "metadata": {},
   "outputs": [
    {
     "name": "stdout",
     "output_type": "stream",
     "text": [
      "KS Test results (p < 0.05 indicates distribution difference):\n",
      "Age: KS Statistic=0.1466, p-value=0.0000\n",
      "Gender: KS Statistic=0.1013, p-value=0.0000\n",
      "Tenure: KS Statistic=0.0259, p-value=0.0000\n",
      "Usage Frequency: KS Statistic=0.0421, p-value=0.0000\n",
      "Support Calls: KS Statistic=0.2928, p-value=0.0000\n",
      "Payment Delay: KS Statistic=0.2394, p-value=0.0000\n",
      "Subscription Type: KS Statistic=0.0088, p-value=0.0003\n",
      "Contract Length: KS Statistic=0.0768, p-value=0.0000\n",
      "Total Spend: KS Statistic=0.2019, p-value=0.0000\n",
      "Last Interaction: KS Statistic=0.0676, p-value=0.0000\n"
     ]
    }
   ],
   "source": [
    "ks_test(df, df_test)"
   ]
  },
  {
   "cell_type": "code",
   "execution_count": 52,
   "id": "0a42d44b-58e6-4113-95e8-3b39ca0af1fe",
   "metadata": {},
   "outputs": [
    {
     "data": {
      "application/vnd.plotly.v1+json": {
       "config": {
        "plotlyServerURL": "https://plot.ly"
       },
       "data": [
        {
         "legendgroup": "Train",
         "marker": {
          "color": "rgb(31, 119, 180)"
         },
         "mode": "lines",
         "name": "Train",
         "showlegend": true,
         "type": "scatter",
         "x": [
          0,
          0.02,
          0.04,
          0.06,
          0.08,
          0.1,
          0.12,
          0.14,
          0.16,
          0.18,
          0.2,
          0.22,
          0.24,
          0.26,
          0.28,
          0.3,
          0.32,
          0.34,
          0.36,
          0.38,
          0.4,
          0.42,
          0.44,
          0.46,
          0.48,
          0.5,
          0.52,
          0.54,
          0.56,
          0.58,
          0.6,
          0.62,
          0.64,
          0.66,
          0.68,
          0.7,
          0.72,
          0.74,
          0.76,
          0.78,
          0.8,
          0.82,
          0.84,
          0.86,
          0.88,
          0.9,
          0.92,
          0.94,
          0.96,
          0.98,
          1,
          1.02,
          1.04,
          1.06,
          1.08,
          1.1,
          1.12,
          1.14,
          1.16,
          1.18,
          1.2,
          1.22,
          1.24,
          1.26,
          1.28,
          1.3,
          1.32,
          1.34,
          1.36,
          1.38,
          1.4,
          1.42,
          1.44,
          1.46,
          1.48,
          1.5,
          1.52,
          1.54,
          1.56,
          1.58,
          1.6,
          1.62,
          1.64,
          1.66,
          1.68,
          1.7,
          1.72,
          1.74,
          1.76,
          1.78,
          1.8,
          1.82,
          1.84,
          1.86,
          1.88,
          1.9,
          1.92,
          1.94,
          1.96,
          1.98,
          2,
          2.02,
          2.04,
          2.06,
          2.08,
          2.1,
          2.12,
          2.14,
          2.16,
          2.18,
          2.2,
          2.22,
          2.24,
          2.26,
          2.28,
          2.3,
          2.32,
          2.34,
          2.36,
          2.38,
          2.4,
          2.42,
          2.44,
          2.46,
          2.48,
          2.5,
          2.52,
          2.54,
          2.56,
          2.58,
          2.6,
          2.62,
          2.64,
          2.66,
          2.68,
          2.7,
          2.72,
          2.74,
          2.76,
          2.78,
          2.8,
          2.82,
          2.84,
          2.86,
          2.88,
          2.9,
          2.92,
          2.94,
          2.96,
          2.98,
          3,
          3.02,
          3.04,
          3.06,
          3.08,
          3.1,
          3.12,
          3.14,
          3.16,
          3.18,
          3.2,
          3.22,
          3.24,
          3.26,
          3.28,
          3.3,
          3.32,
          3.34,
          3.36,
          3.38,
          3.4,
          3.42,
          3.44,
          3.46,
          3.48,
          3.5,
          3.52,
          3.54,
          3.56,
          3.58,
          3.6,
          3.62,
          3.64,
          3.66,
          3.68,
          3.7,
          3.72,
          3.74,
          3.76,
          3.78,
          3.8,
          3.82,
          3.84,
          3.86,
          3.88,
          3.9,
          3.92,
          3.94,
          3.96,
          3.98,
          4,
          4.02,
          4.04,
          4.06,
          4.08,
          4.1,
          4.12,
          4.14,
          4.16,
          4.18,
          4.2,
          4.22,
          4.24,
          4.26,
          4.28,
          4.3,
          4.32,
          4.34,
          4.36,
          4.38,
          4.4,
          4.42,
          4.44,
          4.46,
          4.48,
          4.5,
          4.52,
          4.54,
          4.56,
          4.58,
          4.6,
          4.62,
          4.64,
          4.66,
          4.68,
          4.7,
          4.72,
          4.74,
          4.76,
          4.78,
          4.8,
          4.82,
          4.84,
          4.86,
          4.88,
          4.9,
          4.92,
          4.94,
          4.96,
          4.98,
          5,
          5.02,
          5.04,
          5.06,
          5.08,
          5.1,
          5.12,
          5.14,
          5.16,
          5.18,
          5.2,
          5.22,
          5.24,
          5.26,
          5.28,
          5.3,
          5.32,
          5.34,
          5.36,
          5.38,
          5.4,
          5.42,
          5.44,
          5.46,
          5.48,
          5.5,
          5.52,
          5.54,
          5.56,
          5.58,
          5.6,
          5.62,
          5.64,
          5.66,
          5.68,
          5.7,
          5.72,
          5.74,
          5.76,
          5.78,
          5.8,
          5.82,
          5.84,
          5.86,
          5.88,
          5.9,
          5.92,
          5.94,
          5.96,
          5.98,
          6,
          6.02,
          6.04,
          6.06,
          6.08,
          6.1,
          6.12,
          6.14,
          6.16,
          6.18,
          6.2,
          6.22,
          6.24,
          6.26,
          6.28,
          6.3,
          6.32,
          6.34,
          6.36,
          6.38,
          6.4,
          6.42,
          6.44,
          6.46,
          6.48,
          6.5,
          6.52,
          6.54,
          6.56,
          6.58,
          6.6,
          6.62,
          6.64,
          6.66,
          6.68,
          6.7,
          6.72,
          6.74,
          6.76,
          6.78,
          6.8,
          6.82,
          6.84,
          6.86,
          6.88,
          6.9,
          6.92,
          6.94,
          6.96,
          6.98,
          7,
          7.02,
          7.04,
          7.06,
          7.08,
          7.1,
          7.12,
          7.14,
          7.16,
          7.18,
          7.2,
          7.22,
          7.24,
          7.26,
          7.28,
          7.3,
          7.32,
          7.34,
          7.36,
          7.38,
          7.4,
          7.42,
          7.44,
          7.46,
          7.48,
          7.5,
          7.52,
          7.54,
          7.56,
          7.58,
          7.6,
          7.62,
          7.64,
          7.66,
          7.68,
          7.7,
          7.72,
          7.74,
          7.76,
          7.78,
          7.8,
          7.82,
          7.84,
          7.86,
          7.88,
          7.9,
          7.92,
          7.94,
          7.96,
          7.98,
          8,
          8.02,
          8.04,
          8.06,
          8.08,
          8.1,
          8.12,
          8.14,
          8.16,
          8.18,
          8.2,
          8.22,
          8.24,
          8.26,
          8.28,
          8.3,
          8.32,
          8.34,
          8.36,
          8.38,
          8.4,
          8.42,
          8.44,
          8.46,
          8.48,
          8.5,
          8.52,
          8.54,
          8.56,
          8.58,
          8.6,
          8.62,
          8.64,
          8.66,
          8.68,
          8.7,
          8.72,
          8.74,
          8.76,
          8.78,
          8.8,
          8.82,
          8.84,
          8.86,
          8.88,
          8.9,
          8.92,
          8.94,
          8.96,
          8.98,
          9,
          9.02,
          9.04,
          9.06,
          9.08,
          9.1,
          9.12,
          9.14,
          9.16,
          9.18,
          9.2,
          9.22,
          9.24,
          9.26,
          9.28,
          9.3,
          9.32,
          9.34,
          9.36,
          9.38,
          9.4,
          9.42,
          9.44,
          9.46,
          9.48,
          9.5,
          9.52,
          9.54,
          9.56,
          9.58,
          9.6,
          9.62,
          9.64,
          9.66,
          9.68,
          9.7,
          9.72,
          9.74,
          9.76,
          9.78,
          9.8,
          9.82,
          9.84,
          9.86,
          9.88,
          9.9,
          9.92,
          9.94,
          9.96,
          9.98
         ],
         "xaxis": "x",
         "y": {
          "_inputArray": {
           "0": 0.277123528989093,
           "1": 0.27606993601503477,
           "10": 0.18932401172113422,
           "100": 0.2640349209698837,
           "101": 0.26302348582085266,
           "102": 0.2600159492386005,
           "103": 0.25508160460886875,
           "104": 0.2483332158713131,
           "105": 0.23992289191171498,
           "106": 0.2300366317375362,
           "107": 0.21888782841200305,
           "108": 0.20671006774136352,
           "109": 0.19374958356473784,
           "11": 0.17490920490640802,
           "110": 0.18025773434272266,
           "111": 0.1664838460260885,
           "112": 0.1526687264037417,
           "113": 0.13903909969241257,
           "114": 0.12580314174521728,
           "115": 0.11314722101864608,
           "116": 0.10123387362910233,
           "117": 0.09020096748413603,
           "118": 0.08016194500009576,
           "119": 0.07120697985376426,
           "12": 0.16046449188573086,
           "120": 0.0634048430903436,
           "121": 0.056805249194389035,
           "122": 0.051441443775306434,
           "123": 0.04733280083431386,
           "124": 0.04448721773642749,
           "125": 0.042903128094521376,
           "126": 0.0425709942932641,
           "127": 0.04347418963945958,
           "128": 0.04558923225007384,
           "129": 0.04888538585451062,
           "13": 0.14623147320920737,
           "130": 0.053323693878205104,
           "131": 0.05885555974965339,
           "132": 0.06542102585345494,
           "133": 0.07294693370576902,
           "134": 0.0813451668810386,
           "135": 0.09051118463277441,
           "136": 0.1003230471058097,
           "137": 0.11064111249954779,
           "138": 0.12130855299658393,
           "139": 0.13215279123418563,
           "14": 0.1324330433878411,
           "140": 0.14298790477901666,
           "141": 0.1536179854614161,
           "142": 0.16384137722564784,
           "143": 0.17345565440037652,
           "144": 0.1822631462697693,
           "145": 0.1900767675853754,
           "146": 0.19672588192242407,
           "147": 0.20206190824143128,
           "148": 0.20596338259316588,
           "149": 0.20834020694065586,
           "15": 0.11927007226458061,
           "150": 0.20913685479818805,
           "151": 0.20833435651939458,
           "152": 0.2059509521836642,
           "153": 0.20204137280155515,
           "154": 0.19669478590084852,
           "155": 0.19003151438184349,
           "156": 0.18219870280434214,
           "157": 0.17336515861968022,
           "158": 0.1637156339829198,
           "159": 0.15344483437839618,
           "16": 0.1069193758794682,
           "160": 0.14275144265625958,
           "161": 0.13183243163062486,
           "162": 0.12087790704313502,
           "163": 0.11006667821286853,
           "164": 0.09956269977434061,
           "165": 0.08951246857644093,
           "166": 0.08004339929141585,
           "167": 0.07126314448934415,
           "168": 0.063259773383677,
           "169": 0.056102680901611225,
           "17": 0.09553292298765569,
           "170": 0.0498440671729072,
           "171": 0.04452080806674886,
           "172": 0.04015653031510174,
           "173": 0.03676370958929074,
           "174": 0.03434562549961999,
           "175": 0.0328980323271444,
           "176": 0.03241043637912295,
           "177": 0.032866908074223426,
           "178": 0.03424639693948024,
           "179": 0.036522558400220506,
           "18": 0.08523815323260849,
           "180": 0.0396631403748231,
           "181": 0.04362901320135463,
           "182": 0.04837295644612394,
           "183": 0.053838339030199044,
           "184": 0.05995784350029655,
           "185": 0.06665239019519097,
           "186": 0.07383041189484144,
           "187": 0.08138761429067722,
           "188": 0.08920733269879975,
           "189": 0.0971615620005027,
           "19": 0.076139224941607,
           "190": 0.10511269649335475,
           "191": 0.11291597142049185,
           "192": 0.12042255113370191,
           "193": 0.12748316312726676,
           "194": 0.13395213573284961,
           "195": 0.13969166303546965,
           "196": 0.1445760963197508,
           "197": 0.14849604906468092,
           "198": 0.15136210354016208,
           "199": 0.15310792172284252,
           "2": 0.27291996876116165,
           "20": 0.06831896735750083,
           "200": 0.1536925909054794,
           "201": 0.15310207340435952,
           "202": 0.15134967759844212,
           "203": 0.14847552100607708,
           "204": 0.14454501147547807,
           "205": 0.13964642609791894,
           "206": 0.13388771543087014,
           "207": 0.1273926998742623,
           "208": 0.12029685308804774,
           "209": 0.1127428825752798,
           "21": 0.06184128562741989,
           "210": 0.10487631936452743,
           "211": 0.09684131754716767,
           "212": 0.08877684153706301,
           "213": 0.0808133864791077,
           "214": 0.07307033786321548,
           "215": 0.06565403311794749,
           "216": 0.058656543818661956,
           "217": 0.05215515503618615,
           "218": 0.046212480818505985,
           "219": 0.04087712385011842,
           "22": 0.056753757482430486,
           "220": 0.036184764389153565,
           "221": 0.03215954941963196,
           "222": 0.028815647739235617,
           "223": 0.026158840044587378,
           "224": 0.024188024119413693,
           "225": 0.02289653280100408,
           "226": 0.022273185033722994,
           "227": 0.022303016467837007,
           "228": 0.022967664092803822,
           "229": 0.02424540772099408,
           "23": 0.05309016796223278,
           "230": 0.02611089823248211,
           "231": 0.028534626962283958,
           "232": 0.031482211203583826,
           "233": 0.03491358644124616,
           "234": 0.03878220577619668,
           "235": 0.043034350430579876,
           "236": 0.04760865192939363,
           "237": 0.05243591655232303,
           "238": 0.05743932629035608,
           "239": 0.06253506861537277,
           "24": 0.0508727514051627,
           "240": 0.06763342097594977,
           "241": 0.07264028657497029,
           "242": 0.077459147432181,
           "243": 0.08199337092761753,
           "244": 0.08614877903180225,
           "245": 0.08983636714179562,
           "246": 0.09297504364239383,
           "247": 0.09549425326768801,
           "248": 0.0973363479230345,
           "249": 0.09845857802762951,
           "25": 0.05011394628128598,
           "250": 0.09883459522993657,
           "251": 0.098455382491676,
           "252": 0.09732955835719596,
           "253": 0.09548303668509346,
           "254": 0.09295805880576115,
           "255": 0.0898116495659635,
           "256": 0.08611357961754756,
           "257": 0.08194394157977063,
           "258": 0.07739046570546351,
           "259": 0.07254571039677313,
           "26": 0.050817515796669765,
           "260": 0.06750426392119807,
           "261": 0.062360086244814913,
           "262": 0.05720410484231273,
           "263": 0.05212215703907524,
           "264": 0.04719334557638832,
           "265": 0.04248884562501645,
           "266": 0.03807117237347291,
           "267": 0.03399389049449515,
           "268": 0.030301721913642467,
           "269": 0.02703098773365299,
           "27": 0.05297894259319976,
           "270": 0.024210304888451318,
           "271": 0.021861448694287446,
           "272": 0.020000289137278082,
           "273": 0.018637711306066194,
           "274": 0.017780438392642896,
           "275": 0.01743168842129404,
           "276": 0.01759161242068632,
           "277": 0.018257481106182624,
           "278": 0.019423608170531327,
           "279": 0.021081019846390697,
           "28": 0.05658506623038975,
           "280": 0.02321690134269757,
           "281": 0.025813869942522764,
           "282": 0.028849140905019843,
           "283": 0.03229366485891999,
           "284": 0.03611132326956562,
           "285": 0.04025827114158381,
           "286": 0.04468251297358801,
           "287": 0.04932378898841574,
           "288": 0.054113834021891474,
           "289": 0.05897705177205992,
           "29": 0.061612994112602085,
           "290": 0.0638316233196501,
           "291": 0.0685910422537866,
           "292": 0.07316604096845593,
           "293": 0.07746684553218434,
           "294": 0.0814056718771605,
           "295": 0.08489935570924163,
           "296": 0.0878719941547324,
           "297": 0.09025746998001373,
           "298": 0.09200173005496692,
           "299": 0.09306469880183899,
           "3": 0.267747233380071,
           "30": 0.0680283768538688,
           "300": 0.09342172428838393,
           "301": 0.09306447842004908,
           "302": 0.09200126180904632,
           "303": 0.09025669642259262,
           "304": 0.08787082278668905,
           "305": 0.08489765104884073,
           "306": 0.08140324433134903,
           "307": 0.07746343661164327,
           "308": 0.07316130429764774,
           "309": 0.06858451975873892,
           "31": 0.0757831944358139,
           "310": 0.06382271593656064,
           "311": 0.0589649840223665,
           "312": 0.054097611853061355,
           "313": 0.04930215040129557,
           "314": 0.044653871156139904,
           "315": 0.04022065012041782,
           "316": 0.036062286483079097,
           "317": 0.03223023755206321,
           "318": 0.02876772785021977,
           "319": 0.025710170684780403,
           "32": 0.08481324678856442,
           "320": 0.023085825938562097,
           "321": 0.02091660887701727,
           "322": 0.019218961618164738,
           "323": 0.018004701433121606,
           "324": 0.017281767812613678,
           "325": 0.017054802580294858,
           "326": 0.01732551340943165,
           "327": 0.018092789932324334,
           "328": 0.019352562152400887,
           "329": 0.021097411967454793,
           "33": 0.09503557874799541,
           "330": 0.023315969154425034,
           "331": 0.025992142037115987,
           "332": 0.029104249180877603,
           "333": 0.032624130847322276,
           "334": 0.03651632673715784,
           "335": 0.04073740906787054,
           "336": 0.04523555684114382,
           "337": 0.04995044810601319,
           "338": 0.05481353230954826,
           "339": 0.05974872502839351,
           "34": 0.10634609216885928,
           "340": 0.06467354343558783,
           "341": 0.06950067409096701,
           "342": 0.0741399366635291,
           "343": 0.0785005798118392,
           "344": 0.08249382058431876,
           "345": 0.08603551818575754,
           "346": 0.08904885845510678,
           "347": 0.0914669181813175,
           "348": 0.09323497926713756,
           "349": 0.09431247196530523,
           "35": 0.11861760540275183,
           "350": 0.09467444356459656,
           "351": 0.09431247301674432,
           "352": 0.093234981501134,
           "353": 0.09146692187195406,
           "354": 0.08904886404369418,
           "355": 0.0860355263186802,
           "356": 0.08249383216612113,
           "357": 0.07850059607577295,
           "358": 0.07413995926214932,
           "359": 0.06950070520974093,
           "36": 0.1316986110428365,
           "360": 0.06467358593264473,
           "361": 0.05974878260353492,
           "362": 0.05481360970539228,
           "363": 0.04995055134354732,
           "364": 0.04523569349103605,
           "365": 0.04073758855746592,
           "366": 0.0365165606912822,
           "367": 0.032624433458500066,
           "368": 0.029104637601907606,
           "369": 0.025992636785421706,
           "37": 0.14541295645766447,
           "370": 0.023316594514064756,
           "371": 0.021098196370726793,
           "372": 0.019353538519157373,
           "373": 0.018093995941521012,
           "374": 0.017326991674440448,
           "375": 0.017056600697527957,
           "376": 0.017283938252270946,
           "377": 0.01800730124186445,
           "378": 0.01922205190649677,
           "379": 0.02092025406932864,
           "38": 0.15956062871690102,
           "380": 0.023090092771294923,
           "381": 0.025715126947886975,
           "382": 0.028773440878922314,
           "383": 0.03223677248927755,
           "384": 0.03606970434706634,
           "385": 0.04022900572681629,
           "386": 0.04466321095682112,
           "387": 0.049312510314172844,
           "388": 0.05410901516523012,
           "389": 0.058977439452966456,
           "39": 0.17391976775648085,
           "390": 0.06383621594457907,
           "391": 0.06859903917325327,
           "392": 0.07317679933387967,
           "393": 0.07747984431409612,
           "394": 0.0814204824567503,
           "395": 0.08491561836480833,
           "396": 0.08788939971927805,
           "397": 0.09027574593600544,
           "398": 0.09202063034580898,
           "399": 0.09308399666959077,
           "4": 0.2606708991507383,
           "40": 0.18824996183738005,
           "400": 0.09344120748728725,
           "401": 0.09308394620047764,
           "402": 0.09202052311391878,
           "403": 0.09027556878545213,
           "404": 0.08788913146705338,
           "405": 0.0849152279845635,
           "406": 0.08141992653022975,
           "407": 0.07747906364526877,
           "408": 0.07317571460010777,
           "409": 0.06859754547209554,
           "41": 0.20229680130552502,
           "410": 0.06383417608586091,
           "411": 0.05897467584616625,
           "412": 0.05410530016473441,
           "413": 0.049307554912541705,
           "414": 0.044656651761986056,
           "415": 0.040220390225811746,
           "416": 0.036058474548660895,
           "417": 0.03222224715188325,
           "418": 0.02875479666799244,
           "419": 0.0256913790264391,
           "42": 0.2157975850898472,
           "420": 0.023060075503491057,
           "421": 0.020882602702880435,
           "422": 0.01917518628489306,
           "423": 0.017949412769069226,
           "424": 0.01721298147531321,
           "425": 0.016970290969238036,
           "426": 0.01722281039172289,
           "427": 0.01796920480683019,
           "428": 0.019205204129351332,
           "429": 0.020923226187205286,
           "43": 0.22848799457198826,
           "430": 0.02311178490583037,
           "431": 0.025754733364487734,
           "432": 0.028830407499064296,
           "433": 0.0323107485368207,
           "434": 0.036160489994343285,
           "435": 0.04033649757698687,
           "436": 0.044787347159182964,
           "437": 0.049453217057526956,
           "438": 0.054266156225783686,
           "439": 0.05915077037990523,
           "44": 0.2401094769833879,
           "440": 0.06402534433965512,
           "441": 0.06880339235262035,
           "442": 0.073395600445532,
           "443": 0.07771209772088958,
           "444": 0.08166496888610868,
           "445": 0.08517089997987144,
           "446": 0.08815383489537103,
           "447": 0.0905475131481545,
           "448": 0.09229776020741332,
           "449": 0.09336441083106234,
           "45": 0.2504170206755509,
           "450": 0.09372276282719817,
           "451": 0.09336448253926086,
           "452": 0.09229791256605716,
           "453": 0.09054776484956528,
           "454": 0.08815421603707414,
           "455": 0.08517145464513605,
           "456": 0.08166575876503951,
           "457": 0.07771320692118174,
           "458": 0.07339714167143213,
           "459": 0.06880551465301457,
           "46": 0.2591869623762025,
           "460": 0.06402824263891742,
           "461": 0.05915469700456648,
           "462": 0.05427143462231887,
           "463": 0.049460257857335224,
           "464": 0.04479666668180191,
           "465": 0.0403487387678977,
           "466": 0.03617644566608227,
           "467": 0.03233138662005843,
           "468": 0.028856897814859957,
           "469": 0.02578847520182376,
           "47": 0.2662244454162613,
           "470": 0.023154434438549715,
           "471": 0.020976722500102123,
           "472": 0.019271792360117036,
           "473": 0.01805145466663457,
           "474": 0.0173236281241213,
           "475": 0.017092922669737002,
           "476": 0.017361005646373596,
           "477": 0.018126720053108846,
           "478": 0.019385944521274828,
           "479": 0.02113120580975326,
           "48": 0.2713701505058681,
           "480": 0.023351075199343766,
           "481": 0.026029399075360525,
           "482": 0.029144430142305455,
           "483": 0.032667938127087764,
           "484": 0.03656438663456875,
           "485": 0.04079026534268529,
           "486": 0.04529366352367938,
           "487": 0.05001416181024353,
           "488": 0.05488310438297988,
           "489": 0.05982429391511545,
           "49": 0.27450594737373873,
           "490": 0.06475512762427267,
           "491": 0.0695881659545793,
           "492": 0.07423309736656906,
           "493": 0.07859903525610035,
           "494": 0.08259705807761182,
           "495": 0.08614288314401279,
           "496": 0.0891595499802423,
           "497": 0.09157998178553316,
           "498": 0.09334929433544041,
           "499": 0.09442673074909542,
           "5": 0.2518514422228677,
           "50": 0.27555916553502063,
           "51": 0.2745052525823033,
           "52": 0.27136867428024103,
           "53": 0.2662220066436395,
           "54": 0.259183269437216,
           "55": 0.25041164644081426,
           "56": 0.24010182372830777,
           "57": 0.22847724736451064,
           "58": 0.21578265192160626,
           "59": 0.2022762380195544,
           "6": 0.24148499007065077,
           "60": 0.18822187978235852,
           "61": 0.17388172210286845,
           "62": 0.15950948554337824,
           "63": 0.14534473709521606,
           "64": 0.13160831279396332,
           "65": 0.11849899867239469,
           "66": 0.10619149527771647,
           "67": 0.0948356132705121,
           "68": 0.08455657815257489,
           "69": 0.07545626471941322,
           "7": 0.22979657231912953,
           "70": 0.06761513913776192,
           "71": 0.06109466030851557,
           "72": 0.05593988285320708,
           "73": 0.052182011308938285,
           "74": 0.04984067754472661,
           "75": 0.048925749100708675,
           "76": 0.049438522552857356,
           "77": 0.051372210253865916,
           "78": 0.05471168781179467,
           "79": 0.059432530177456505,
           "8": 0.21703263342275103,
           "80": 0.06549942302795299,
           "81": 0.07286409002500059,
           "82": 0.08146292250326662,
           "83": 0.09121453342386192,
           "84": 0.10201747960377697,
           "85": 0.1137484034993264,
           "86": 0.12626083689493892,
           "87": 0.13938488348875944,
           "88": 0.15292795604266343,
           "89": 0.16667668820562698,
           "9": 0.20345318922453673,
           "90": 0.18040007398422792,
           "91": 0.19385381278692343,
           "92": 0.20678575955993891,
           "93": 0.21894230283197938,
           "94": 0.23007542382676718,
           "95": 0.23995013232005608,
           "96": 0.24835193428812635,
           "97": 0.25509396602690343,
           "98": 0.26002343179017584,
           "99": 0.26302700751332714,
           "bdata": "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",
           "dtype": "f8",
           "shape": "500"
          },
          "bdata": "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",
          "dtype": "f8"
         },
         "yaxis": "y"
        },
        {
         "legendgroup": "Test",
         "marker": {
          "color": "rgb(255, 127, 14)"
         },
         "mode": "lines",
         "name": "Test",
         "showlegend": true,
         "type": "scatter",
         "x": [
          0,
          0.02,
          0.04,
          0.06,
          0.08,
          0.1,
          0.12,
          0.14,
          0.16,
          0.18,
          0.2,
          0.22,
          0.24,
          0.26,
          0.28,
          0.3,
          0.32,
          0.34,
          0.36,
          0.38,
          0.4,
          0.42,
          0.44,
          0.46,
          0.48,
          0.5,
          0.52,
          0.54,
          0.56,
          0.58,
          0.6,
          0.62,
          0.64,
          0.66,
          0.68,
          0.7,
          0.72,
          0.74,
          0.76,
          0.78,
          0.8,
          0.82,
          0.84,
          0.86,
          0.88,
          0.9,
          0.92,
          0.94,
          0.96,
          0.98,
          1,
          1.02,
          1.04,
          1.06,
          1.08,
          1.1,
          1.12,
          1.14,
          1.16,
          1.18,
          1.2,
          1.22,
          1.24,
          1.26,
          1.28,
          1.3,
          1.32,
          1.34,
          1.36,
          1.38,
          1.4,
          1.42,
          1.44,
          1.46,
          1.48,
          1.5,
          1.52,
          1.54,
          1.56,
          1.58,
          1.6,
          1.62,
          1.64,
          1.66,
          1.68,
          1.7,
          1.72,
          1.74,
          1.76,
          1.78,
          1.8,
          1.82,
          1.84,
          1.86,
          1.88,
          1.9,
          1.92,
          1.94,
          1.96,
          1.98,
          2,
          2.02,
          2.04,
          2.06,
          2.08,
          2.1,
          2.12,
          2.14,
          2.16,
          2.18,
          2.2,
          2.22,
          2.24,
          2.26,
          2.28,
          2.3,
          2.32,
          2.34,
          2.36,
          2.38,
          2.4,
          2.42,
          2.44,
          2.46,
          2.48,
          2.5,
          2.52,
          2.54,
          2.56,
          2.58,
          2.6,
          2.62,
          2.64,
          2.66,
          2.68,
          2.7,
          2.72,
          2.74,
          2.76,
          2.78,
          2.8,
          2.82,
          2.84,
          2.86,
          2.88,
          2.9,
          2.92,
          2.94,
          2.96,
          2.98,
          3,
          3.02,
          3.04,
          3.06,
          3.08,
          3.1,
          3.12,
          3.14,
          3.16,
          3.18,
          3.2,
          3.22,
          3.24,
          3.26,
          3.28,
          3.3,
          3.32,
          3.34,
          3.36,
          3.38,
          3.4,
          3.42,
          3.44,
          3.46,
          3.48,
          3.5,
          3.52,
          3.54,
          3.56,
          3.58,
          3.6,
          3.62,
          3.64,
          3.66,
          3.68,
          3.7,
          3.72,
          3.74,
          3.76,
          3.78,
          3.8,
          3.82,
          3.84,
          3.86,
          3.88,
          3.9,
          3.92,
          3.94,
          3.96,
          3.98,
          4,
          4.02,
          4.04,
          4.06,
          4.08,
          4.1,
          4.12,
          4.14,
          4.16,
          4.18,
          4.2,
          4.22,
          4.24,
          4.26,
          4.28,
          4.3,
          4.32,
          4.34,
          4.36,
          4.38,
          4.4,
          4.42,
          4.44,
          4.46,
          4.48,
          4.5,
          4.52,
          4.54,
          4.56,
          4.58,
          4.6,
          4.62,
          4.64,
          4.66,
          4.68,
          4.7,
          4.72,
          4.74,
          4.76,
          4.78,
          4.8,
          4.82,
          4.84,
          4.86,
          4.88,
          4.9,
          4.92,
          4.94,
          4.96,
          4.98,
          5,
          5.02,
          5.04,
          5.06,
          5.08,
          5.1,
          5.12,
          5.14,
          5.16,
          5.18,
          5.2,
          5.22,
          5.24,
          5.26,
          5.28,
          5.3,
          5.32,
          5.34,
          5.36,
          5.38,
          5.4,
          5.42,
          5.44,
          5.46,
          5.48,
          5.5,
          5.52,
          5.54,
          5.56,
          5.58,
          5.6,
          5.62,
          5.64,
          5.66,
          5.68,
          5.7,
          5.72,
          5.74,
          5.76,
          5.78,
          5.8,
          5.82,
          5.84,
          5.86,
          5.88,
          5.9,
          5.92,
          5.94,
          5.96,
          5.98,
          6,
          6.02,
          6.04,
          6.06,
          6.08,
          6.1,
          6.12,
          6.14,
          6.16,
          6.18,
          6.2,
          6.22,
          6.24,
          6.26,
          6.28,
          6.3,
          6.32,
          6.34,
          6.36,
          6.38,
          6.4,
          6.42,
          6.44,
          6.46,
          6.48,
          6.5,
          6.52,
          6.54,
          6.56,
          6.58,
          6.6,
          6.62,
          6.64,
          6.66,
          6.68,
          6.7,
          6.72,
          6.74,
          6.76,
          6.78,
          6.8,
          6.82,
          6.84,
          6.86,
          6.88,
          6.9,
          6.92,
          6.94,
          6.96,
          6.98,
          7,
          7.02,
          7.04,
          7.06,
          7.08,
          7.1,
          7.12,
          7.14,
          7.16,
          7.18,
          7.2,
          7.22,
          7.24,
          7.26,
          7.28,
          7.3,
          7.32,
          7.34,
          7.36,
          7.38,
          7.4,
          7.42,
          7.44,
          7.46,
          7.48,
          7.5,
          7.52,
          7.54,
          7.56,
          7.58,
          7.6,
          7.62,
          7.64,
          7.66,
          7.68,
          7.7,
          7.72,
          7.74,
          7.76,
          7.78,
          7.8,
          7.82,
          7.84,
          7.86,
          7.88,
          7.9,
          7.92,
          7.94,
          7.96,
          7.98,
          8,
          8.02,
          8.04,
          8.06,
          8.08,
          8.1,
          8.12,
          8.14,
          8.16,
          8.18,
          8.2,
          8.22,
          8.24,
          8.26,
          8.28,
          8.3,
          8.32,
          8.34,
          8.36,
          8.38,
          8.4,
          8.42,
          8.44,
          8.46,
          8.48,
          8.5,
          8.52,
          8.54,
          8.56,
          8.58,
          8.6,
          8.62,
          8.64,
          8.66,
          8.68,
          8.7,
          8.72,
          8.74,
          8.76,
          8.78,
          8.8,
          8.82,
          8.84,
          8.86,
          8.88,
          8.9,
          8.92,
          8.94,
          8.96,
          8.98,
          9,
          9.02,
          9.04,
          9.06,
          9.08,
          9.1,
          9.12,
          9.14,
          9.16,
          9.18,
          9.2,
          9.22,
          9.24,
          9.26,
          9.28,
          9.3,
          9.32,
          9.34,
          9.36,
          9.38,
          9.4,
          9.42,
          9.44,
          9.46,
          9.48,
          9.5,
          9.52,
          9.54,
          9.56,
          9.58,
          9.6,
          9.62,
          9.64,
          9.66,
          9.68,
          9.7,
          9.72,
          9.74,
          9.76,
          9.78,
          9.8,
          9.82,
          9.84,
          9.86,
          9.88,
          9.9,
          9.92,
          9.94,
          9.96,
          9.98
         ],
         "xaxis": "x",
         "y": {
          "_inputArray": {
           "0": 0.09170484967577945,
           "1": 0.0917707950765101,
           "10": 0.0817859159175168,
           "100": 0.09002118732231577,
           "101": 0.08989190347740228,
           "102": 0.08952307996053215,
           "103": 0.08892030369547656,
           "104": 0.08809289211165044,
           "105": 0.08705373630079806,
           "106": 0.08581908573743201,
           "107": 0.08440827857323903,
           "108": 0.08284342247468558,
           "109": 0.08114903180817404,
           "11": 0.07989694510073914,
           "110": 0.07935162767821102,
           "111": 0.07747930787002497,
           "112": 0.07556129414206905,
           "113": 0.07362746454645448,
           "114": 0.07170787853609512,
           "115": 0.06983230255201846,
           "116": 0.06802974358427255,
           "117": 0.06632799788314792,
           "118": 0.06475322157706505,
           "119": 0.06332952944994917,
           "12": 0.07795572834231088,
           "120": 0.062078627560974216,
           "121": 0.061019484769685876,
           "122": 0.06016804757409178,
           "123": 0.059537001993942004,
           "124": 0.05913558554128389,
           "125": 0.058969451628578036,
           "126": 0.05904058807035733,
           "127": 0.05934729064581038,
           "128": 0.05988419200080616,
           "129": 0.060642345486065515,
           "13": 0.07599417463680291,
           "130": 0.061609362844018446,
           "131": 0.0627696039776182,
           "132": 0.0641044163530836,
           "133": 0.0655924209146849,
           "134": 0.0672098407188448,
           "135": 0.06893086784272867,
           "136": 0.0707280634909466,
           "137": 0.07257278562889508,
           "138": 0.0744356379259099,
           "139": 0.07628693331136036,
           "14": 0.07404423406042639,
           "140": 0.0780971650472795,
           "141": 0.07983747792340591,
           "142": 0.08148013199495217,
           "143": 0.08299895122895741,
           "144": 0.0843697495114627,
           "145": 0.08557072670178657,
           "146": 0.08658282781017869,
           "147": 0.08739005891192475,
           "148": 0.0879797540985966,
           "149": 0.08834278858454628,
           "15": 0.07213742413920927,
           "150": 0.08847373402382418,
           "151": 0.08837095312789159,
           "152": 0.08803663177784773,
           "153": 0.08747674798010817,
           "154": 0.08670097817818169,
           "155": 0.085722542590496,
           "156": 0.08455799235353567,
           "157": 0.08322694229157875,
           "158": 0.08175175408307368,
           "159": 0.0801571754235057,
           "16": 0.07030436287534636,
           "160": 0.07846994148900613,
           "161": 0.07671834556023766,
           "162": 0.07493178607909964,
           "163": 0.07314029766810227,
           "164": 0.07137407375684625,
           "165": 0.06966298843466229,
           "166": 0.06803612499458349,
           "167": 0.06652131836791683,
           "168": 0.06514471828328744,
           "169": 0.06393037953629009,
           "17": 0.06857431584159296,
           "170": 0.06289988524276316,
           "171": 0.062072008383305406,
           "172": 0.06146241634184254,
           "173": 0.06108342251086945,
           "174": 0.06094378838278163,
           "175": 0.06104857888290039,
           "176": 0.061399073021824825,
           "177": 0.06199273126073108,
           "178": 0.06282322028526377,
           "179": 0.06388049517913405,
           "18": 0.06697476435772244,
           "180": 0.06515093826769189,
           "181": 0.06661755317228805,
           "182": 0.06826021187207475,
           "183": 0.07005595182146755,
           "184": 0.07197931941675108,
           "185": 0.07400275536150207,
           "186": 0.07609701675198083,
           "187": 0.07823163000927066,
           "188": 0.08037536814065102,
           "189": 0.0824967452369393,
           "19": 0.0655310012752933,
           "190": 0.08456452062327258,
           "191": 0.08654820470241195,
           "192": 0.08841855827505546,
           "193": 0.0901480770104958,
           "194": 0.09171145278707263,
           "195": 0.09308600383150024,
           "196": 0.09425206596856255,
           "197": 0.09519333783969215,
           "198": 0.09589717366354457,
           "199": 0.09635481797224067,
           "2": 0.09156130239655917,
           "20": 0.06426576033172995,
           "200": 0.09656157775213191,
           "201": 0.09651692852449383,
           "202": 0.09622455208711876,
           "203": 0.09569230488619626,
           "204": 0.09493211724895209,
           "205": 0.09395982497046998,
           "206": 0.09279493596323588,
           "207": 0.09146033582874272,
           "208": 0.08998193726665686,
           "209": 0.0883882791720359,
           "21": 0.0631988844142266,
           "210": 0.08671008207915165,
           "211": 0.08497976726464532,
           "212": 0.08323094733031532,
           "213": 0.08149789643510426,
           "214": 0.07981500854499855,
           "215": 0.07821625212608635,
           "216": 0.07673462962767089,
           "217": 0.0754016499058164,
           "218": 0.07424682143634029,
           "219": 0.07329717377313373,
           "22": 0.06234703740945727,
           "220": 0.07257681424108565,
           "221": 0.0721065263223232,
           "222": 0.07190341561089648,
           "223": 0.07198060858615143,
           "224": 0.07234700878911784,
           "225": 0.07300711428678694,
           "226": 0.07396089957361963,
           "227": 0.0752037642897669,
           "228": 0.0767265503259808,
           "229": 0.07851562803788362,
           "23": 0.061723463625418556,
           "230": 0.08055305140216461,
           "231": 0.08281678101829076,
           "232": 0.08528097289238827,
           "233": 0.08791632994403364,
           "234": 0.09069051215859543,
           "235": 0.0935686002887118,
           "236": 0.09651360699853964,
           "237": 0.09948702837390065,
           "238": 0.10244942781095756,
           "239": 0.10536104347478116,
           "24": 0.06133779806384447,
           "240": 0.10818240981452333,
           "241": 0.11087498306418217,
           "242": 0.11340176027057153,
           "243": 0.1157278811977966,
           "244": 0.11782120247875606,
           "245": 0.11965283363003937,
           "246": 0.1211976250274328,
           "247": 0.12243459864430195,
           "248": 0.12334731328847602,
           "249": 0.12392415720396993,
           "25": 0.06119593010545658,
           "250": 0.12415856221714731,
           "251": 0.12404913506940939,
           "252": 0.12359970314660597,
           "253": 0.12281927346467257,
           "254": 0.12172190543532047,
           "255": 0.12032649959599795,
           "256": 0.11865650607945764,
           "257": 0.11673955809465049,
           "258": 0.11460703705122693,
           "259": 0.11229357714789809,
           "26": 0.06129992245152342,
           "260": 0.10983651825047427,
           "261": 0.1072753166730477,
           "262": 0.10465092405346348,
           "263": 0.10200514486754551,
           "264": 0.0993799832660885,
           "265": 0.0968169898557116,
           "266": 0.09435661879350474,
           "267": 0.09203760514784685,
           "268": 0.08989637191865868,
           "269": 0.08796647542985403,
           "27": 0.06164798644645325,
           "270": 0.08627809703394136,
           "271": 0.08485758822469622,
           "272": 0.08372707535615573,
           "273": 0.08290412923958129,
           "274": 0.08240150394036601,
           "275": 0.08222694814027057,
           "276": 0.08238309146966076,
           "277": 0.08286740725584255,
           "278": 0.08367225217507225,
           "279": 0.08478498233964636,
           "28": 0.06223451418694825,
           "280": 0.08618814439387198,
           "281": 0.08785973923494632,
           "282": 0.08977355501616066,
           "283": 0.09189956513522729,
           "284": 0.09420438596237288,
           "285": 0.09665178813834674,
           "286": 0.09920325437523651,
           "287": 0.10181857584915673,
           "288": 0.10445647849872347,
           "289": 0.1070752698601137,
           "29": 0.0630501671074017,
           "290": 0.10963349650298473,
           "291": 0.11209060170656368,
           "292": 0.11440757275214535,
           "293": 0.1165475671305407,
           "294": 0.11847650708405226,
           "295": 0.12016363223607732,
           "296": 0.12158200061347729,
           "297": 0.1227089291283489,
           "298": 0.12352636556154768,
           "299": 0.12402118524851004,
           "3": 0.09108578256673613,
           "30": 0.06408202001310999,
           "300": 0.12418540699601377,
           "301": 0.12401632422500725,
           "302": 0.12351654889537322,
           "303": 0.12269396740421533,
           "304": 0.12156160929071899,
           "305": 0.12013743121549095,
           "306": 0.11844402024295142,
           "307": 0.11650822191968231,
           "308": 0.11436069996901069,
           "309": 0.11203543557752689,
           "31": 0.06531375881615047,
           "310": 0.10956917522272214,
           "311": 0.10700083674912744,
           "312": 0.10437088394989427,
           "313": 0.10172068023919155,
           "314": 0.09909183211880947,
           "315": 0.0965255330597099,
           "316": 0.09406191815210196,
           "317": 0.09173943944725398,
           "318": 0.08959427134398797,
           "319": 0.0876597546846569,
           "32": 0.06672592951184392,
           "320": 0.08596588744653491,
           "321": 0.08453886906715456,
           "322": 0.08340070454219299,
           "323": 0.08256887350790898,
           "324": 0.08205606857172895,
           "325": 0.08187000620007254,
           "326": 0.08201331251589021,
           "327": 0.08248348540402399,
           "328": 0.08327293336962037,
           "329": 0.08436909064502655,
           "33": 0.06829623522075838,
           "330": 0.08575460708954509,
           "331": 0.0874076104767409,
           "332": 0.08930203781297967,
           "333": 0.09140803138453356,
           "334": 0.09369239429139684,
           "335": 0.09611909930949566,
           "336": 0.09864984403454449,
           "337": 0.10124464442457524,
           "338": 0.10386245809122072,
           "339": 0.1064618280125379,
           "34": 0.0699998774137149,
           "340": 0.1090015367801711,
           "341": 0.11144126107283615,
           "342": 0.11374221578841978,
           "343": 0.11586777719057885,
           "344": 0.11778407454772703,
           "345": 0.11946054007283713,
           "346": 0.1208704075223915,
           "347": 0.12199115056836692,
           "348": 0.12280485302687894,
           "349": 0.12329850417649268,
           "35": 0.07180993674755166,
           "350": 0.12346421371877613,
           "351": 0.12329934238933975,
           "352": 0.12280654577779859,
           "353": 0.12199373053940894,
           "354": 0.120873923811493,
           "355": 0.11946505827214741,
           "356": 0.1177896768290834,
           "357": 0.11587456238233662,
           "358": 0.11375029942448116,
           "359": 0.11145077539173849,
           "36": 0.07369778827240055,
           "360": 0.10901263064959213,
           "361": 0.10647466675263077,
           "362": 0.1038772231688884,
           "363": 0.1012615329902454,
           "364": 0.09866906827317024,
           "365": 0.0961408855786153,
           "366": 0.09371698202109535,
           "367": 0.09143567171702095,
           "368": 0.0893329919634595,
           "369": 0.08744214780203412,
           "37": 0.07563354514243215,
           "370": 0.08579300285673201,
           "371": 0.08441162349893298,
           "372": 0.08331988250537893,
           "373": 0.08253512745879621,
           "374": 0.0820699182024364,
           "375": 0.08193183671327707,
           "376": 0.0821233718081827,
           "377": 0.08264188014682664,
           "378": 0.08347962404430519,
           "379": 0.08462388565525382,
           "38": 0.07758652438619297,
           "380": 0.08605715613779273,
           "381": 0.08775739744979028,
           "382": 0.0896983734719408,
           "383": 0.09185004619577845,
           "384": 0.09417903176472779,
           "385": 0.09664911022730262,
           "386": 0.09922178195992755,
           "387": 0.10185686286702422,
           "388": 0.10451310968543859,
           "389": 0.10714886602999685,
           "39": 0.07952572778555028,
           "390": 0.10972271924487415,
           "391": 0.11219415769395273,
           "392": 0.11452421785468174,
           "393": 0.11667611049673268,
           "394": 0.11861581534401824,
           "395": 0.12031263394721842,
           "396": 0.12173969104412781,
           "397": 0.12287437544370511,
           "398": 0.12369871244477562,
           "399": 0.12419966095732861,
           "4": 0.09035714687037101,
           "40": 0.08142033049197082,
           "400": 0.12436932982349098,
           "401": 0.12420510930219253,
           "402": 0.12370971524421907,
           "403": 0.12289114512215933,
           "404": 0.12176254672380889,
           "405": 0.12034200195589474,
           "406": 0.11865222976864988,
           "407": 0.11672021368018448,
           "408": 0.114576760710773,
           "409": 0.11225599969665946,
           "41": 0.08324016969391881,
           "410": 0.1097948279311869,
           "411": 0.10723231584318449,
           "412": 0.10460907997691944,
           "413": 0.10196663487113138,
           "414": 0.09934673455708476,
           "415": 0.09679071431790273,
           "416": 0.09433884308869432,
           "417": 0.0920296964514982,
           "418": 0.08989955961322753,
           "419": 0.08798186907052999,
           "42": 0.08495622545510872,
           "420": 0.08630670089095699,
           "421": 0.0849003126949439,
           "422": 0.08378474552695252,
           "423": 0.08297749087837812,
           "424": 0.08249122717773837,
           "425": 0.08233362910930352,
           "426": 0.08250725216260596,
           "427": 0.08300949385888684,
           "428": 0.08383263214298435,
           "429": 0.08496394047382232,
           "43": 0.0865410857868204,
           "430": 0.08638587818884298,
           "431": 0.08807635375885024,
           "432": 0.09000905758993509,
           "433": 0.0921538600706061,
           "434": 0.09447726961264122,
           "435": 0.09694294450427274,
           "436": 0.09951225149382163,
           "437": 0.10214486317321711,
           "438": 0.10479938545136931,
           "439": 0.1074340057196186,
           "44": 0.08796938810913507,
           "440": 0.11000715174180603,
           "441": 0.11247815087220456,
           "442": 0.11480787893960522,
           "443": 0.11695938805561962,
           "444": 0.11889850272666748,
           "445": 0.12059437398175664,
           "446": 0.1220199817821233,
           "447": 0.12315257674277609,
           "448": 0.1239740531756312,
           "449": 0.12447124662552596,
           "45": 0.08921822950509263,
           "450": 0.12463615040535136,
           "451": 0.12446604710754029,
           "452": 0.1239635526378224,
           "453": 0.12313657195849721,
           "454": 0.12199816737729198,
           "455": 0.1205663418592989,
           "456": 0.11886374140570147,
           "457": 0.11691728201410614,
           "458": 0.11475770806510863,
           "459": 0.11241909014071018,
           "46": 0.0902675385828005,
           "460": 0.10993827125419939,
           "461": 0.10735427123168247,
           "462": 0.10470765953211131,
           "463": 0.10203990712145333,
           "464": 0.09939272812900965,
           "465": 0.0968074219266123,
           "466": 0.09432422599748322,
           "467": 0.09198168952321563,
           "468": 0.08981607703711879,
           "469": 0.08786081079409093,
           "47": 0.09110040232903141,
           "470": 0.08614595971651196,
           "471": 0.08469778191602396,
           "472": 0.0835383268781914,
           "473": 0.08268510245779112,
           "474": 0.08215081086999039,
           "475": 0.08194315689529283,
           "476": 0.08206473054712361,
           "477": 0.08251296548379713,
           "478": 0.0832801734831655,
           "479": 0.0843536543386107,
           "48": 0.09170334206211551,
           "480": 0.08571587957650331,
           "481": 0.08734474743985998,
           "482": 0.08921390563013201,
           "483": 0.09129313735267996,
           "484": 0.09354880527945679,
           "485": 0.09594434713483574,
           "486": 0.09844081573924043,
           "487": 0.10099745553244022,
           "488": 0.10357230686129391,
           "489": 0.1061228286792669,
           "49": 0.09206653345516448,
           "490": 0.10860652979404073,
           "491": 0.11098159843653298,
           "492": 0.11320751973398878,
           "493": 0.1152456706740442,
           "494": 0.11705988235858882,
           "495": 0.118616959777172,
           "496": 0.11988714999003802,
           "497": 0.12084455048349572,
           "498": 0.12146745055377259,
           "499": 0.12173859984965622,
           "5": 0.08939166286119922,
           "50": 0.0921839665873658,
           "51": 0.09205354307101263,
           "52": 0.09167710846319267,
           "53": 0.091060419384255,
           "54": 0.09021304598671048,
           "55": 0.0891482116301538,
           "56": 0.08788257277731394,
           "57": 0.08643594321208344,
           "58": 0.08483096766422965,
           "59": 0.0830927507815046,
           "6": 0.08820875217787655,
           "60": 0.08124844810870764,
           "61": 0.07932682629323606,
           "62": 0.07735780013958596,
           "63": 0.07537195437357205,
           "64": 0.07340005805876065,
           "65": 0.07147257953936918,
           "66": 0.06961920957776081,
           "67": 0.06786840002813137,
           "68": 0.0662469249553303,
           "69": 0.06477947058986083,
           "7": 0.08683073361237235,
           "70": 0.06348825992377628,
           "71": 0.06239271711491876,
           "72": 0.06150917619341619,
           "73": 0.06085063787006455,
           "74": 0.06042657753841412,
           "75": 0.060242806851152124,
           "76": 0.06030139054051906,
           "77": 0.0606006194458003,
           "78": 0.06113504000669446,
           "79": 0.06189553978299399,
           "8": 0.08528251587756897,
           "80": 0.06286948786301505,
           "81": 0.06404092832910728,
           "82": 0.06539082425502787,
           "83": 0.0668973490231429,
           "84": 0.06853622106752173,
           "85": 0.0702810774866316,
           "86": 0.0721038813285874,
           "87": 0.07397535674923245,
           "88": 0.07586544569192678,
           "89": 0.07774377925378485,
           "9": 0.08359124547914491,
           "90": 0.07958015650219621,
           "91": 0.08134502320817426,
           "92": 0.08300994278159367,
           "93": 0.08454805164571474,
           "94": 0.08593449138526082,
           "95": 0.08714681024986824,
           "96": 0.08816532700180225,
           "97": 0.08897345065427278,
           "98": 0.08955795035752957,
           "99": 0.08990917053316744,
           "bdata": "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",
           "dtype": "f8",
           "shape": "500"
          },
          "bdata": "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",
          "dtype": "f8"
         },
         "yaxis": "y"
        }
       ],
       "layout": {
        "autosize": true,
        "barmode": "overlay",
        "hovermode": "closest",
        "legend": {
         "traceorder": "reversed"
        },
        "template": {
         "data": {
          "bar": [
           {
            "error_x": {
             "color": "#2a3f5f"
            },
            "error_y": {
             "color": "#2a3f5f"
            },
            "marker": {
             "line": {
              "color": "#E5ECF6",
              "width": 0.5
             },
             "pattern": {
              "fillmode": "overlay",
              "size": 10,
              "solidity": 0.2
             }
            },
            "type": "bar"
           }
          ],
          "barpolar": [
           {
            "marker": {
             "line": {
              "color": "#E5ECF6",
              "width": 0.5
             },
             "pattern": {
              "fillmode": "overlay",
              "size": 10,
              "solidity": 0.2
             }
            },
            "type": "barpolar"
           }
          ],
          "carpet": [
           {
            "aaxis": {
             "endlinecolor": "#2a3f5f",
             "gridcolor": "white",
             "linecolor": "white",
             "minorgridcolor": "white",
             "startlinecolor": "#2a3f5f"
            },
            "baxis": {
             "endlinecolor": "#2a3f5f",
             "gridcolor": "white",
             "linecolor": "white",
             "minorgridcolor": "white",
             "startlinecolor": "#2a3f5f"
            },
            "type": "carpet"
           }
          ],
          "choropleth": [
           {
            "colorbar": {
             "outlinewidth": 0,
             "ticks": ""
            },
            "type": "choropleth"
           }
          ],
          "contour": [
           {
            "colorbar": {
             "outlinewidth": 0,
             "ticks": ""
            },
            "colorscale": [
             [
              0,
              "#0d0887"
             ],
             [
              0.1111111111111111,
              "#46039f"
             ],
             [
              0.2222222222222222,
              "#7201a8"
             ],
             [
              0.3333333333333333,
              "#9c179e"
             ],
             [
              0.4444444444444444,
              "#bd3786"
             ],
             [
              0.5555555555555556,
              "#d8576b"
             ],
             [
              0.6666666666666666,
              "#ed7953"
             ],
             [
              0.7777777777777778,
              "#fb9f3a"
             ],
             [
              0.8888888888888888,
              "#fdca26"
             ],
             [
              1,
              "#f0f921"
             ]
            ],
            "type": "contour"
           }
          ],
          "contourcarpet": [
           {
            "colorbar": {
             "outlinewidth": 0,
             "ticks": ""
            },
            "type": "contourcarpet"
           }
          ],
          "heatmap": [
           {
            "colorbar": {
             "outlinewidth": 0,
             "ticks": ""
            },
            "colorscale": [
             [
              0,
              "#0d0887"
             ],
             [
              0.1111111111111111,
              "#46039f"
             ],
             [
              0.2222222222222222,
              "#7201a8"
             ],
             [
              0.3333333333333333,
              "#9c179e"
             ],
             [
              0.4444444444444444,
              "#bd3786"
             ],
             [
              0.5555555555555556,
              "#d8576b"
             ],
             [
              0.6666666666666666,
              "#ed7953"
             ],
             [
              0.7777777777777778,
              "#fb9f3a"
             ],
             [
              0.8888888888888888,
              "#fdca26"
             ],
             [
              1,
              "#f0f921"
             ]
            ],
            "type": "heatmap"
           }
          ],
          "histogram": [
           {
            "marker": {
             "pattern": {
              "fillmode": "overlay",
              "size": 10,
              "solidity": 0.2
             }
            },
            "type": "histogram"
           }
          ],
          "histogram2d": [
           {
            "colorbar": {
             "outlinewidth": 0,
             "ticks": ""
            },
            "colorscale": [
             [
              0,
              "#0d0887"
             ],
             [
              0.1111111111111111,
              "#46039f"
             ],
             [
              0.2222222222222222,
              "#7201a8"
             ],
             [
              0.3333333333333333,
              "#9c179e"
             ],
             [
              0.4444444444444444,
              "#bd3786"
             ],
             [
              0.5555555555555556,
              "#d8576b"
             ],
             [
              0.6666666666666666,
              "#ed7953"
             ],
             [
              0.7777777777777778,
              "#fb9f3a"
             ],
             [
              0.8888888888888888,
              "#fdca26"
             ],
             [
              1,
              "#f0f921"
             ]
            ],
            "type": "histogram2d"
           }
          ],
          "histogram2dcontour": [
           {
            "colorbar": {
             "outlinewidth": 0,
             "ticks": ""
            },
            "colorscale": [
             [
              0,
              "#0d0887"
             ],
             [
              0.1111111111111111,
              "#46039f"
             ],
             [
              0.2222222222222222,
              "#7201a8"
             ],
             [
              0.3333333333333333,
              "#9c179e"
             ],
             [
              0.4444444444444444,
              "#bd3786"
             ],
             [
              0.5555555555555556,
              "#d8576b"
             ],
             [
              0.6666666666666666,
              "#ed7953"
             ],
             [
              0.7777777777777778,
              "#fb9f3a"
             ],
             [
              0.8888888888888888,
              "#fdca26"
             ],
             [
              1,
              "#f0f921"
             ]
            ],
            "type": "histogram2dcontour"
           }
          ],
          "mesh3d": [
           {
            "colorbar": {
             "outlinewidth": 0,
             "ticks": ""
            },
            "type": "mesh3d"
           }
          ],
          "parcoords": [
           {
            "line": {
             "colorbar": {
              "outlinewidth": 0,
              "ticks": ""
             }
            },
            "type": "parcoords"
           }
          ],
          "pie": [
           {
            "automargin": true,
            "type": "pie"
           }
          ],
          "scatter": [
           {
            "fillpattern": {
             "fillmode": "overlay",
             "size": 10,
             "solidity": 0.2
            },
            "type": "scatter"
           }
          ],
          "scatter3d": [
           {
            "line": {
             "colorbar": {
              "outlinewidth": 0,
              "ticks": ""
             }
            },
            "marker": {
             "colorbar": {
              "outlinewidth": 0,
              "ticks": ""
             }
            },
            "type": "scatter3d"
           }
          ],
          "scattercarpet": [
           {
            "marker": {
             "colorbar": {
              "outlinewidth": 0,
              "ticks": ""
             }
            },
            "type": "scattercarpet"
           }
          ],
          "scattergeo": [
           {
            "marker": {
             "colorbar": {
              "outlinewidth": 0,
              "ticks": ""
             }
            },
            "type": "scattergeo"
           }
          ],
          "scattergl": [
           {
            "marker": {
             "colorbar": {
              "outlinewidth": 0,
              "ticks": ""
             }
            },
            "type": "scattergl"
           }
          ],
          "scattermap": [
           {
            "marker": {
             "colorbar": {
              "outlinewidth": 0,
              "ticks": ""
             }
            },
            "type": "scattermap"
           }
          ],
          "scattermapbox": [
           {
            "marker": {
             "colorbar": {
              "outlinewidth": 0,
              "ticks": ""
             }
            },
            "type": "scattermapbox"
           }
          ],
          "scatterpolar": [
           {
            "marker": {
             "colorbar": {
              "outlinewidth": 0,
              "ticks": ""
             }
            },
            "type": "scatterpolar"
           }
          ],
          "scatterpolargl": [
           {
            "marker": {
             "colorbar": {
              "outlinewidth": 0,
              "ticks": ""
             }
            },
            "type": "scatterpolargl"
           }
          ],
          "scatterternary": [
           {
            "marker": {
             "colorbar": {
              "outlinewidth": 0,
              "ticks": ""
             }
            },
            "type": "scatterternary"
           }
          ],
          "surface": [
           {
            "colorbar": {
             "outlinewidth": 0,
             "ticks": ""
            },
            "colorscale": [
             [
              0,
              "#0d0887"
             ],
             [
              0.1111111111111111,
              "#46039f"
             ],
             [
              0.2222222222222222,
              "#7201a8"
             ],
             [
              0.3333333333333333,
              "#9c179e"
             ],
             [
              0.4444444444444444,
              "#bd3786"
             ],
             [
              0.5555555555555556,
              "#d8576b"
             ],
             [
              0.6666666666666666,
              "#ed7953"
             ],
             [
              0.7777777777777778,
              "#fb9f3a"
             ],
             [
              0.8888888888888888,
              "#fdca26"
             ],
             [
              1,
              "#f0f921"
             ]
            ],
            "type": "surface"
           }
          ],
          "table": [
           {
            "cells": {
             "fill": {
              "color": "#EBF0F8"
             },
             "line": {
              "color": "white"
             }
            },
            "header": {
             "fill": {
              "color": "#C8D4E3"
             },
             "line": {
              "color": "white"
             }
            },
            "type": "table"
           }
          ]
         },
         "layout": {
          "annotationdefaults": {
           "arrowcolor": "#2a3f5f",
           "arrowhead": 0,
           "arrowwidth": 1
          },
          "autotypenumbers": "strict",
          "coloraxis": {
           "colorbar": {
            "outlinewidth": 0,
            "ticks": ""
           }
          },
          "colorscale": {
           "diverging": [
            [
             0,
             "#8e0152"
            ],
            [
             0.1,
             "#c51b7d"
            ],
            [
             0.2,
             "#de77ae"
            ],
            [
             0.3,
             "#f1b6da"
            ],
            [
             0.4,
             "#fde0ef"
            ],
            [
             0.5,
             "#f7f7f7"
            ],
            [
             0.6,
             "#e6f5d0"
            ],
            [
             0.7,
             "#b8e186"
            ],
            [
             0.8,
             "#7fbc41"
            ],
            [
             0.9,
             "#4d9221"
            ],
            [
             1,
             "#276419"
            ]
           ],
           "sequential": [
            [
             0,
             "#0d0887"
            ],
            [
             0.1111111111111111,
             "#46039f"
            ],
            [
             0.2222222222222222,
             "#7201a8"
            ],
            [
             0.3333333333333333,
             "#9c179e"
            ],
            [
             0.4444444444444444,
             "#bd3786"
            ],
            [
             0.5555555555555556,
             "#d8576b"
            ],
            [
             0.6666666666666666,
             "#ed7953"
            ],
            [
             0.7777777777777778,
             "#fb9f3a"
            ],
            [
             0.8888888888888888,
             "#fdca26"
            ],
            [
             1,
             "#f0f921"
            ]
           ],
           "sequentialminus": [
            [
             0,
             "#0d0887"
            ],
            [
             0.1111111111111111,
             "#46039f"
            ],
            [
             0.2222222222222222,
             "#7201a8"
            ],
            [
             0.3333333333333333,
             "#9c179e"
            ],
            [
             0.4444444444444444,
             "#bd3786"
            ],
            [
             0.5555555555555556,
             "#d8576b"
            ],
            [
             0.6666666666666666,
             "#ed7953"
            ],
            [
             0.7777777777777778,
             "#fb9f3a"
            ],
            [
             0.8888888888888888,
             "#fdca26"
            ],
            [
             1,
             "#f0f921"
            ]
           ]
          },
          "colorway": [
           "#636efa",
           "#EF553B",
           "#00cc96",
           "#ab63fa",
           "#FFA15A",
           "#19d3f3",
           "#FF6692",
           "#B6E880",
           "#FF97FF",
           "#FECB52"
          ],
          "font": {
           "color": "#2a3f5f"
          },
          "geo": {
           "bgcolor": "white",
           "lakecolor": "white",
           "landcolor": "#E5ECF6",
           "showlakes": true,
           "showland": true,
           "subunitcolor": "white"
          },
          "hoverlabel": {
           "align": "left"
          },
          "hovermode": "closest",
          "mapbox": {
           "style": "light"
          },
          "paper_bgcolor": "white",
          "plot_bgcolor": "#E5ECF6",
          "polar": {
           "angularaxis": {
            "gridcolor": "white",
            "linecolor": "white",
            "ticks": ""
           },
           "bgcolor": "#E5ECF6",
           "radialaxis": {
            "gridcolor": "white",
            "linecolor": "white",
            "ticks": ""
           }
          },
          "scene": {
           "xaxis": {
            "backgroundcolor": "#E5ECF6",
            "gridcolor": "white",
            "gridwidth": 2,
            "linecolor": "white",
            "showbackground": true,
            "ticks": "",
            "zerolinecolor": "white"
           },
           "yaxis": {
            "backgroundcolor": "#E5ECF6",
            "gridcolor": "white",
            "gridwidth": 2,
            "linecolor": "white",
            "showbackground": true,
            "ticks": "",
            "zerolinecolor": "white"
           },
           "zaxis": {
            "backgroundcolor": "#E5ECF6",
            "gridcolor": "white",
            "gridwidth": 2,
            "linecolor": "white",
            "showbackground": true,
            "ticks": "",
            "zerolinecolor": "white"
           }
          },
          "shapedefaults": {
           "line": {
            "color": "#2a3f5f"
           }
          },
          "ternary": {
           "aaxis": {
            "gridcolor": "white",
            "linecolor": "white",
            "ticks": ""
           },
           "baxis": {
            "gridcolor": "white",
            "linecolor": "white",
            "ticks": ""
           },
           "bgcolor": "#E5ECF6",
           "caxis": {
            "gridcolor": "white",
            "linecolor": "white",
            "ticks": ""
           }
          },
          "title": {
           "x": 0.05
          },
          "xaxis": {
           "automargin": true,
           "gridcolor": "white",
           "linecolor": "white",
           "ticks": "",
           "title": {
            "standoff": 15
           },
           "zerolinecolor": "white",
           "zerolinewidth": 2
          },
          "yaxis": {
           "automargin": true,
           "gridcolor": "white",
           "linecolor": "white",
           "ticks": "",
           "title": {
            "standoff": 15
           },
           "zerolinecolor": "white",
           "zerolinewidth": 2
          }
         }
        },
        "title": {
         "text": "Support Calls Distribution - Train vs Test"
        },
        "xaxis": {
         "anchor": "y2",
         "autorange": true,
         "domain": [
          0,
          1
         ],
         "range": [
          0,
          9.98
         ],
         "title": {
          "text": "Support Calls"
         },
         "type": "linear",
         "zeroline": false
        },
        "yaxis": {
         "anchor": "free",
         "autorange": true,
         "domain": [
          0,
          1
         ],
         "position": 0,
         "range": [
          0.0025173333014683157,
          0.2915764866568627
         ],
         "title": {
          "text": "Density"
         },
         "type": "linear"
        }
       }
      },
      "image/png": "[encoded data removed]"
     },
     "metadata": {},
     "output_type": "display_data"
    }
   ],
   "source": [
    "import plotly.figure_factory as ff\n",
    "\n",
    "# Drop NaNs if needed\n",
    "train_values = df['Support Calls'].dropna()\n",
    "test_values = df_test['Support Calls'].dropna()\n",
    "\n",
    "# Create KDE plot\n",
    "fig = ff.create_distplot(\n",
    "    [train_values, test_values],\n",
    "    group_labels=['Train', 'Test'],\n",
    "    show_hist=False,\n",
    "    show_rug=False\n",
    ")\n",
    "\n",
    "fig.update_layout(\n",
    "    title='Support Calls Distribution - Train vs Test',\n",
    "    xaxis_title='Support Calls',\n",
    "    yaxis_title='Density'\n",
    ")\n",
    "\n",
    "fig.show()\n"
   ]
  },
  {
   "cell_type": "markdown",
   "id": "79144e78-74c1-48e3-8552-ab57265f738c",
   "metadata": {},
   "source": [
    "Problem with dataset is that there is huge distribution difference in both of dataset !! That Why I used KDE (Kernel density estimation) for finding it.\n",
    "\n",
    "The problem can be solved just by adding up the two dataset and model will then will be working more fine way. "
   ]
  }
 ],
 "metadata": {
  "kernelspec": {
   "display_name": "Python 3 (ipykernel)",
   "language": "python",
   "name": "python3"
  },
  "language_info": {
   "codemirror_mode": {
    "name": "ipython",
    "version": 3
   },
   "file_extension": ".py",
   "mimetype": "text/x-python",
   "name": "python",
   "nbconvert_exporter": "python",
   "pygments_lexer": "ipython3",
   "version": "3.12.4"
  }
 },
 "nbformat": 4,
 "nbformat_minor": 5
}
